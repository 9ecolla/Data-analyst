{
  "nbformat": 4,
  "nbformat_minor": 0,
  "metadata": {
    "colab": {
      "provenance": []
    },
    "kernelspec": {
      "name": "python3",
      "display_name": "Python 3"
    },
    "language_info": {
      "name": "python"
    }
  },
  "cells": [
    {
      "cell_type": "markdown",
      "source": [
        "ссылка на таблицу с результатом предсказаний\n",
        "https://docs.google.com/spreadsheets/d/1aAt4svhExSpQOkAxLF-WjEzwQEEwL2c_/edit?usp=sharing&ouid=117504778252107175976&rtpof=true&sd=true"
      ],
      "metadata": {
        "id": "iCCC8yQPp3T1"
      }
    },
    {
      "cell_type": "markdown",
      "source": [
        "#Импорты, после первой ячейки вас выкинет, но не переживайте и продолжайте запуск ноутбука"
      ],
      "metadata": {
        "id": "gFMeT3yEt-7l"
      }
    },
    {
      "cell_type": "code",
      "execution_count": 5,
      "metadata": {
        "colab": {
          "base_uri": "https://localhost:8080/"
        },
        "id": "wP-Vvj14tW0k",
        "outputId": "33cf3e56-40a9-497e-f4d1-596e5cfca4ee"
      },
      "outputs": [
        {
          "output_type": "stream",
          "name": "stdout",
          "text": [
            "Requirement already satisfied: numpy==1.24.4 in /usr/local/lib/python3.11/dist-packages (1.24.4)\n"
          ]
        }
      ],
      "source": [
        "!pip install numpy==1.24.4"
      ]
    },
    {
      "cell_type": "code",
      "source": [
        "import sys\n",
        "# Install dependencies if the notebook is running in Colab\n",
        "if 'google.colab' in sys.modules:\n",
        "    !pip install -U -qq tsa-course pmdarima"
      ],
      "metadata": {
        "colab": {
          "base_uri": "https://localhost:8080/"
        },
        "id": "_g2KN9CEtge9",
        "outputId": "893496ba-46be-4ea6-ae0b-9a93d744dfb9"
      },
      "execution_count": 6,
      "outputs": [
        {
          "output_type": "stream",
          "name": "stdout",
          "text": [
            "\u001b[31mERROR: Operation cancelled by user\u001b[0m\u001b[31m\n",
            "\u001b[0m"
          ]
        }
      ]
    },
    {
      "cell_type": "code",
      "source": [
        "import numpy as np\n",
        "import pandas as pd\n",
        "import matplotlib.pyplot as plt\n",
        "import datetime\n",
        "import gdown\n",
        "import statsmodels as ss\n",
        "import holidays\n",
        "import pmdarima as pm\n",
        "from sklearn.preprocessing import LabelEncoder\n",
        "from pmdarima.arima import auto_arima\n",
        "from sklearn.metrics import mean_squared_error"
      ],
      "metadata": {
        "id": "uE53ayXKtgbf"
      },
      "execution_count": 7,
      "outputs": []
    },
    {
      "cell_type": "code",
      "source": [
        "!gdown 1fVYIghsx9zDlKXV8u2bVGAXmGwbCTNaA\n",
        "df = pd.read_csv('/content/CupIT_Sber_data.csv', sep = ';')"
      ],
      "metadata": {
        "colab": {
          "base_uri": "https://localhost:8080/"
        },
        "id": "fcmAsp0rtgZB",
        "outputId": "f39aced7-3607-4afb-fd99-90130baa911c"
      },
      "execution_count": 9,
      "outputs": [
        {
          "output_type": "stream",
          "name": "stdout",
          "text": [
            "Downloading...\n",
            "From (original): https://drive.google.com/uc?id=1fVYIghsx9zDlKXV8u2bVGAXmGwbCTNaA\n",
            "From (redirected): https://drive.google.com/uc?id=1fVYIghsx9zDlKXV8u2bVGAXmGwbCTNaA&confirm=t&uuid=0e2dc48f-08a6-481f-8ec9-1d780fb17c56\n",
            "To: /content/CupIT_Sber_data.csv\n",
            "100% 230M/230M [00:02<00:00, 111MB/s] \n"
          ]
        }
      ]
    },
    {
      "cell_type": "code",
      "source": [
        "df = pd.read_csv('/content/CupIT_Sber_data.csv', sep = ';')\n",
        "df['service_date'] = pd.to_datetime(df['service_date'])\n",
        "df['service_amount_net'] = df['service_amount_net'].str.replace(',', '.')\n",
        "df['date'] = df['service_date'].dt.date\n",
        "df['month'] = df['service_date'].dt.month\n",
        "df['year'] = df['service_date'].dt.year\n",
        "df['week'] = df['service_date'].dt.isocalendar().week\n",
        "df['service_amount_net'] = df['service_amount_net'].astype(float)\n",
        "df"
      ],
      "metadata": {
        "colab": {
          "base_uri": "https://localhost:8080/",
          "height": 617
        },
        "id": "RNVwcjbZtgWp",
        "outputId": "c73ec658-e4a0-4670-c85c-ab593de8920f"
      },
      "execution_count": 10,
      "outputs": [
        {
          "output_type": "execute_result",
          "data": {
            "text/plain": [
              "                        service_document_id  \\\n",
              "0        0xE3A4BED668151E271B6680FE5E8772D6   \n",
              "1        0xD1DD45B19A9195143BE217BD83702901   \n",
              "2        0xAB000FD6D4A66E6E1523907DEBFEC85D   \n",
              "3        0x53A548619940E6DF7D910D17905D1CFD   \n",
              "4        0x1FDDAF54CB064A6E27519F2B6DF97B0E   \n",
              "...                                     ...   \n",
              "1091038  0xAF0854F4B12F33F7E708D054EA4C4E39   \n",
              "1091039  0x4B41C55DDC997B70CC37F7BC037BE0FF   \n",
              "1091040  0x65AC689ED66DADBE72A979C6C5971666   \n",
              "1091041  0xD5DD4B29D93C2871463BC635FD574355   \n",
              "1091042  0xB7BD55A988EBA0E946C56A8DCA2BA423   \n",
              "\n",
              "                        account_document_id        service_date  \\\n",
              "0        0xFDD38318ED6FC6EC68131DB6671F100C 2022-01-01 12:07:00   \n",
              "1        0x9F7486A2D5FEFFF7453777B1D0592E16 2022-01-01 12:17:00   \n",
              "2        0x72CBB210256CBF07F48DCACFDA4A3E4C 2022-01-01 12:30:00   \n",
              "3        0x34082776539FC71066087BA9EB78986D 2022-01-01 12:33:00   \n",
              "4        0x5809EF65F6969882A139F7A484B8D95C 2022-01-01 12:27:00   \n",
              "...                                     ...                 ...   \n",
              "1091038  0x4BA2F4D793766AE703CC498131301D95 2023-12-21 10:57:00   \n",
              "1091039  0x980634735FC5C16158DC773FBF729F8F 2023-12-21 10:57:00   \n",
              "1091040  0x0FBD82C28836C2E8A5FC83939E32CA1D 2023-12-30 09:28:00   \n",
              "1091041  0xDB4C4A6CBD0B06EEC8DD55F1FF7EEEC3 2023-12-30 09:57:00   \n",
              "1091042  0xF611B2F346D82DBC26676192407A6CE2 2023-12-30 12:53:00   \n",
              "\n",
              "         service_amount_net                          patient_id  \\\n",
              "0                   1925.00  0xD2B5A46F0FFF14D5209ED49B6215BDA0   \n",
              "1                   4800.00  0x0A1FF218569A9829DDA53CBDF9FD12F9   \n",
              "2                   1710.00  0xECA1B4580DFE64AC35678C0EC46CFB56   \n",
              "3                   2040.00  0xF3F9B8D552B3F35BD9F4E553E1C84AA8   \n",
              "4                   2200.00  0xF599395DBD681B9A446C26F2DB9E0BF2   \n",
              "...                     ...                                 ...   \n",
              "1091038             1297.00  0x60932DBC67AD0E50CFCEF91E5A636E67   \n",
              "1091039              445.00  0x60932DBC67AD0E50CFCEF91E5A636E67   \n",
              "1091040             9726.00  0x96146D12EDF353CCADC6126BA97E180E   \n",
              "1091041             1764.00  0x96146D12EDF353CCADC6126BA97E180E   \n",
              "1091042            13212.37  0x96146D12EDF353CCADC6126BA97E180E   \n",
              "\n",
              "                               service_code  \\\n",
              "0        0xCDEA5658E0AD52E1700653CAE2A4928D   \n",
              "1        0x1ECB5F528158D6C0BC98B017169D3E5B   \n",
              "2        0x727B72BA7EB94341537D4FA18BAF9D7C   \n",
              "3        0x5AF4EDF46C78DFB3049268F4C9708407   \n",
              "4        0xE6EEC1C29E25C790C0088B42F82CBA55   \n",
              "...                                     ...   \n",
              "1091038  0x2967289004C10B000F45A9ED3FD42988   \n",
              "1091039  0xBD46A7B2FCD9FC493D8E2EDBE225C9D1   \n",
              "1091040  0x7EE918316FD3AEA062AF090BD4535E4C   \n",
              "1091041  0xDBA2BFA1540877BB3F5969DDDFEBAECF   \n",
              "1091042  0xFC4F19325D9746B630C23610505567C7   \n",
              "\n",
              "                               service_name  is_hospital        date  month  \\\n",
              "0        0x95758EBA87326C4D5DECC8B51A8B9C61            0  2022-01-01      1   \n",
              "1        0x48137991AF094338080AC09C4A51E050            0  2022-01-01      1   \n",
              "2        0x9F45909133FB97131C44DD00094F781E            0  2022-01-01      1   \n",
              "3        0xC311E151328A1118224B8A3F163AD3C0            0  2022-01-01      1   \n",
              "4        0x95758EBA87326C4D5DECC8B51A8B9C61            0  2022-01-01      1   \n",
              "...                                     ...          ...         ...    ...   \n",
              "1091038  0x28D5058F50AAF33F5CFAD39D1F33E733            0  2023-12-21     12   \n",
              "1091039  0x01D029DF0704C6B5891DF7C601181E4D            0  2023-12-21     12   \n",
              "1091040  0xC789986064B7B7656159FFB180390DB9            0  2023-12-30     12   \n",
              "1091041  0x389978FE61E4BDD814604F07FD9E7823            0  2023-12-30     12   \n",
              "1091042  0xFC98F1E83B20FA30BEC6DF7BB4D02D74            0  2023-12-30     12   \n",
              "\n",
              "         year  week  \n",
              "0        2022    52  \n",
              "1        2022    52  \n",
              "2        2022    52  \n",
              "3        2022    52  \n",
              "4        2022    52  \n",
              "...       ...   ...  \n",
              "1091038  2023    51  \n",
              "1091039  2023    51  \n",
              "1091040  2023    52  \n",
              "1091041  2023    52  \n",
              "1091042  2023    52  \n",
              "\n",
              "[1091043 rows x 12 columns]"
            ],
            "text/html": [
              "\n",
              "  <div id=\"df-3a3fc642-9bcb-4869-b8de-e4283ce0ca4f\" class=\"colab-df-container\">\n",
              "    <div>\n",
              "<style scoped>\n",
              "    .dataframe tbody tr th:only-of-type {\n",
              "        vertical-align: middle;\n",
              "    }\n",
              "\n",
              "    .dataframe tbody tr th {\n",
              "        vertical-align: top;\n",
              "    }\n",
              "\n",
              "    .dataframe thead th {\n",
              "        text-align: right;\n",
              "    }\n",
              "</style>\n",
              "<table border=\"1\" class=\"dataframe\">\n",
              "  <thead>\n",
              "    <tr style=\"text-align: right;\">\n",
              "      <th></th>\n",
              "      <th>service_document_id</th>\n",
              "      <th>account_document_id</th>\n",
              "      <th>service_date</th>\n",
              "      <th>service_amount_net</th>\n",
              "      <th>patient_id</th>\n",
              "      <th>service_code</th>\n",
              "      <th>service_name</th>\n",
              "      <th>is_hospital</th>\n",
              "      <th>date</th>\n",
              "      <th>month</th>\n",
              "      <th>year</th>\n",
              "      <th>week</th>\n",
              "    </tr>\n",
              "  </thead>\n",
              "  <tbody>\n",
              "    <tr>\n",
              "      <th>0</th>\n",
              "      <td>0xE3A4BED668151E271B6680FE5E8772D6</td>\n",
              "      <td>0xFDD38318ED6FC6EC68131DB6671F100C</td>\n",
              "      <td>2022-01-01 12:07:00</td>\n",
              "      <td>1925.00</td>\n",
              "      <td>0xD2B5A46F0FFF14D5209ED49B6215BDA0</td>\n",
              "      <td>0xCDEA5658E0AD52E1700653CAE2A4928D</td>\n",
              "      <td>0x95758EBA87326C4D5DECC8B51A8B9C61</td>\n",
              "      <td>0</td>\n",
              "      <td>2022-01-01</td>\n",
              "      <td>1</td>\n",
              "      <td>2022</td>\n",
              "      <td>52</td>\n",
              "    </tr>\n",
              "    <tr>\n",
              "      <th>1</th>\n",
              "      <td>0xD1DD45B19A9195143BE217BD83702901</td>\n",
              "      <td>0x9F7486A2D5FEFFF7453777B1D0592E16</td>\n",
              "      <td>2022-01-01 12:17:00</td>\n",
              "      <td>4800.00</td>\n",
              "      <td>0x0A1FF218569A9829DDA53CBDF9FD12F9</td>\n",
              "      <td>0x1ECB5F528158D6C0BC98B017169D3E5B</td>\n",
              "      <td>0x48137991AF094338080AC09C4A51E050</td>\n",
              "      <td>0</td>\n",
              "      <td>2022-01-01</td>\n",
              "      <td>1</td>\n",
              "      <td>2022</td>\n",
              "      <td>52</td>\n",
              "    </tr>\n",
              "    <tr>\n",
              "      <th>2</th>\n",
              "      <td>0xAB000FD6D4A66E6E1523907DEBFEC85D</td>\n",
              "      <td>0x72CBB210256CBF07F48DCACFDA4A3E4C</td>\n",
              "      <td>2022-01-01 12:30:00</td>\n",
              "      <td>1710.00</td>\n",
              "      <td>0xECA1B4580DFE64AC35678C0EC46CFB56</td>\n",
              "      <td>0x727B72BA7EB94341537D4FA18BAF9D7C</td>\n",
              "      <td>0x9F45909133FB97131C44DD00094F781E</td>\n",
              "      <td>0</td>\n",
              "      <td>2022-01-01</td>\n",
              "      <td>1</td>\n",
              "      <td>2022</td>\n",
              "      <td>52</td>\n",
              "    </tr>\n",
              "    <tr>\n",
              "      <th>3</th>\n",
              "      <td>0x53A548619940E6DF7D910D17905D1CFD</td>\n",
              "      <td>0x34082776539FC71066087BA9EB78986D</td>\n",
              "      <td>2022-01-01 12:33:00</td>\n",
              "      <td>2040.00</td>\n",
              "      <td>0xF3F9B8D552B3F35BD9F4E553E1C84AA8</td>\n",
              "      <td>0x5AF4EDF46C78DFB3049268F4C9708407</td>\n",
              "      <td>0xC311E151328A1118224B8A3F163AD3C0</td>\n",
              "      <td>0</td>\n",
              "      <td>2022-01-01</td>\n",
              "      <td>1</td>\n",
              "      <td>2022</td>\n",
              "      <td>52</td>\n",
              "    </tr>\n",
              "    <tr>\n",
              "      <th>4</th>\n",
              "      <td>0x1FDDAF54CB064A6E27519F2B6DF97B0E</td>\n",
              "      <td>0x5809EF65F6969882A139F7A484B8D95C</td>\n",
              "      <td>2022-01-01 12:27:00</td>\n",
              "      <td>2200.00</td>\n",
              "      <td>0xF599395DBD681B9A446C26F2DB9E0BF2</td>\n",
              "      <td>0xE6EEC1C29E25C790C0088B42F82CBA55</td>\n",
              "      <td>0x95758EBA87326C4D5DECC8B51A8B9C61</td>\n",
              "      <td>0</td>\n",
              "      <td>2022-01-01</td>\n",
              "      <td>1</td>\n",
              "      <td>2022</td>\n",
              "      <td>52</td>\n",
              "    </tr>\n",
              "    <tr>\n",
              "      <th>...</th>\n",
              "      <td>...</td>\n",
              "      <td>...</td>\n",
              "      <td>...</td>\n",
              "      <td>...</td>\n",
              "      <td>...</td>\n",
              "      <td>...</td>\n",
              "      <td>...</td>\n",
              "      <td>...</td>\n",
              "      <td>...</td>\n",
              "      <td>...</td>\n",
              "      <td>...</td>\n",
              "      <td>...</td>\n",
              "    </tr>\n",
              "    <tr>\n",
              "      <th>1091038</th>\n",
              "      <td>0xAF0854F4B12F33F7E708D054EA4C4E39</td>\n",
              "      <td>0x4BA2F4D793766AE703CC498131301D95</td>\n",
              "      <td>2023-12-21 10:57:00</td>\n",
              "      <td>1297.00</td>\n",
              "      <td>0x60932DBC67AD0E50CFCEF91E5A636E67</td>\n",
              "      <td>0x2967289004C10B000F45A9ED3FD42988</td>\n",
              "      <td>0x28D5058F50AAF33F5CFAD39D1F33E733</td>\n",
              "      <td>0</td>\n",
              "      <td>2023-12-21</td>\n",
              "      <td>12</td>\n",
              "      <td>2023</td>\n",
              "      <td>51</td>\n",
              "    </tr>\n",
              "    <tr>\n",
              "      <th>1091039</th>\n",
              "      <td>0x4B41C55DDC997B70CC37F7BC037BE0FF</td>\n",
              "      <td>0x980634735FC5C16158DC773FBF729F8F</td>\n",
              "      <td>2023-12-21 10:57:00</td>\n",
              "      <td>445.00</td>\n",
              "      <td>0x60932DBC67AD0E50CFCEF91E5A636E67</td>\n",
              "      <td>0xBD46A7B2FCD9FC493D8E2EDBE225C9D1</td>\n",
              "      <td>0x01D029DF0704C6B5891DF7C601181E4D</td>\n",
              "      <td>0</td>\n",
              "      <td>2023-12-21</td>\n",
              "      <td>12</td>\n",
              "      <td>2023</td>\n",
              "      <td>51</td>\n",
              "    </tr>\n",
              "    <tr>\n",
              "      <th>1091040</th>\n",
              "      <td>0x65AC689ED66DADBE72A979C6C5971666</td>\n",
              "      <td>0x0FBD82C28836C2E8A5FC83939E32CA1D</td>\n",
              "      <td>2023-12-30 09:28:00</td>\n",
              "      <td>9726.00</td>\n",
              "      <td>0x96146D12EDF353CCADC6126BA97E180E</td>\n",
              "      <td>0x7EE918316FD3AEA062AF090BD4535E4C</td>\n",
              "      <td>0xC789986064B7B7656159FFB180390DB9</td>\n",
              "      <td>0</td>\n",
              "      <td>2023-12-30</td>\n",
              "      <td>12</td>\n",
              "      <td>2023</td>\n",
              "      <td>52</td>\n",
              "    </tr>\n",
              "    <tr>\n",
              "      <th>1091041</th>\n",
              "      <td>0xD5DD4B29D93C2871463BC635FD574355</td>\n",
              "      <td>0xDB4C4A6CBD0B06EEC8DD55F1FF7EEEC3</td>\n",
              "      <td>2023-12-30 09:57:00</td>\n",
              "      <td>1764.00</td>\n",
              "      <td>0x96146D12EDF353CCADC6126BA97E180E</td>\n",
              "      <td>0xDBA2BFA1540877BB3F5969DDDFEBAECF</td>\n",
              "      <td>0x389978FE61E4BDD814604F07FD9E7823</td>\n",
              "      <td>0</td>\n",
              "      <td>2023-12-30</td>\n",
              "      <td>12</td>\n",
              "      <td>2023</td>\n",
              "      <td>52</td>\n",
              "    </tr>\n",
              "    <tr>\n",
              "      <th>1091042</th>\n",
              "      <td>0xB7BD55A988EBA0E946C56A8DCA2BA423</td>\n",
              "      <td>0xF611B2F346D82DBC26676192407A6CE2</td>\n",
              "      <td>2023-12-30 12:53:00</td>\n",
              "      <td>13212.37</td>\n",
              "      <td>0x96146D12EDF353CCADC6126BA97E180E</td>\n",
              "      <td>0xFC4F19325D9746B630C23610505567C7</td>\n",
              "      <td>0xFC98F1E83B20FA30BEC6DF7BB4D02D74</td>\n",
              "      <td>0</td>\n",
              "      <td>2023-12-30</td>\n",
              "      <td>12</td>\n",
              "      <td>2023</td>\n",
              "      <td>52</td>\n",
              "    </tr>\n",
              "  </tbody>\n",
              "</table>\n",
              "<p>1091043 rows × 12 columns</p>\n",
              "</div>\n",
              "    <div class=\"colab-df-buttons\">\n",
              "\n",
              "  <div class=\"colab-df-container\">\n",
              "    <button class=\"colab-df-convert\" onclick=\"convertToInteractive('df-3a3fc642-9bcb-4869-b8de-e4283ce0ca4f')\"\n",
              "            title=\"Convert this dataframe to an interactive table.\"\n",
              "            style=\"display:none;\">\n",
              "\n",
              "  <svg xmlns=\"http://www.w3.org/2000/svg\" height=\"24px\" viewBox=\"0 -960 960 960\">\n",
              "    <path d=\"M120-120v-720h720v720H120Zm60-500h600v-160H180v160Zm220 220h160v-160H400v160Zm0 220h160v-160H400v160ZM180-400h160v-160H180v160Zm440 0h160v-160H620v160ZM180-180h160v-160H180v160Zm440 0h160v-160H620v160Z\"/>\n",
              "  </svg>\n",
              "    </button>\n",
              "\n",
              "  <style>\n",
              "    .colab-df-container {\n",
              "      display:flex;\n",
              "      gap: 12px;\n",
              "    }\n",
              "\n",
              "    .colab-df-convert {\n",
              "      background-color: #E8F0FE;\n",
              "      border: none;\n",
              "      border-radius: 50%;\n",
              "      cursor: pointer;\n",
              "      display: none;\n",
              "      fill: #1967D2;\n",
              "      height: 32px;\n",
              "      padding: 0 0 0 0;\n",
              "      width: 32px;\n",
              "    }\n",
              "\n",
              "    .colab-df-convert:hover {\n",
              "      background-color: #E2EBFA;\n",
              "      box-shadow: 0px 1px 2px rgba(60, 64, 67, 0.3), 0px 1px 3px 1px rgba(60, 64, 67, 0.15);\n",
              "      fill: #174EA6;\n",
              "    }\n",
              "\n",
              "    .colab-df-buttons div {\n",
              "      margin-bottom: 4px;\n",
              "    }\n",
              "\n",
              "    [theme=dark] .colab-df-convert {\n",
              "      background-color: #3B4455;\n",
              "      fill: #D2E3FC;\n",
              "    }\n",
              "\n",
              "    [theme=dark] .colab-df-convert:hover {\n",
              "      background-color: #434B5C;\n",
              "      box-shadow: 0px 1px 3px 1px rgba(0, 0, 0, 0.15);\n",
              "      filter: drop-shadow(0px 1px 2px rgba(0, 0, 0, 0.3));\n",
              "      fill: #FFFFFF;\n",
              "    }\n",
              "  </style>\n",
              "\n",
              "    <script>\n",
              "      const buttonEl =\n",
              "        document.querySelector('#df-3a3fc642-9bcb-4869-b8de-e4283ce0ca4f button.colab-df-convert');\n",
              "      buttonEl.style.display =\n",
              "        google.colab.kernel.accessAllowed ? 'block' : 'none';\n",
              "\n",
              "      async function convertToInteractive(key) {\n",
              "        const element = document.querySelector('#df-3a3fc642-9bcb-4869-b8de-e4283ce0ca4f');\n",
              "        const dataTable =\n",
              "          await google.colab.kernel.invokeFunction('convertToInteractive',\n",
              "                                                    [key], {});\n",
              "        if (!dataTable) return;\n",
              "\n",
              "        const docLinkHtml = 'Like what you see? Visit the ' +\n",
              "          '<a target=\"_blank\" href=https://colab.research.google.com/notebooks/data_table.ipynb>data table notebook</a>'\n",
              "          + ' to learn more about interactive tables.';\n",
              "        element.innerHTML = '';\n",
              "        dataTable['output_type'] = 'display_data';\n",
              "        await google.colab.output.renderOutput(dataTable, element);\n",
              "        const docLink = document.createElement('div');\n",
              "        docLink.innerHTML = docLinkHtml;\n",
              "        element.appendChild(docLink);\n",
              "      }\n",
              "    </script>\n",
              "  </div>\n",
              "\n",
              "\n",
              "<div id=\"df-b7d23a5a-2157-44c7-95ad-89042a6be86a\">\n",
              "  <button class=\"colab-df-quickchart\" onclick=\"quickchart('df-b7d23a5a-2157-44c7-95ad-89042a6be86a')\"\n",
              "            title=\"Suggest charts\"\n",
              "            style=\"display:none;\">\n",
              "\n",
              "<svg xmlns=\"http://www.w3.org/2000/svg\" height=\"24px\"viewBox=\"0 0 24 24\"\n",
              "     width=\"24px\">\n",
              "    <g>\n",
              "        <path d=\"M19 3H5c-1.1 0-2 .9-2 2v14c0 1.1.9 2 2 2h14c1.1 0 2-.9 2-2V5c0-1.1-.9-2-2-2zM9 17H7v-7h2v7zm4 0h-2V7h2v10zm4 0h-2v-4h2v4z\"/>\n",
              "    </g>\n",
              "</svg>\n",
              "  </button>\n",
              "\n",
              "<style>\n",
              "  .colab-df-quickchart {\n",
              "      --bg-color: #E8F0FE;\n",
              "      --fill-color: #1967D2;\n",
              "      --hover-bg-color: #E2EBFA;\n",
              "      --hover-fill-color: #174EA6;\n",
              "      --disabled-fill-color: #AAA;\n",
              "      --disabled-bg-color: #DDD;\n",
              "  }\n",
              "\n",
              "  [theme=dark] .colab-df-quickchart {\n",
              "      --bg-color: #3B4455;\n",
              "      --fill-color: #D2E3FC;\n",
              "      --hover-bg-color: #434B5C;\n",
              "      --hover-fill-color: #FFFFFF;\n",
              "      --disabled-bg-color: #3B4455;\n",
              "      --disabled-fill-color: #666;\n",
              "  }\n",
              "\n",
              "  .colab-df-quickchart {\n",
              "    background-color: var(--bg-color);\n",
              "    border: none;\n",
              "    border-radius: 50%;\n",
              "    cursor: pointer;\n",
              "    display: none;\n",
              "    fill: var(--fill-color);\n",
              "    height: 32px;\n",
              "    padding: 0;\n",
              "    width: 32px;\n",
              "  }\n",
              "\n",
              "  .colab-df-quickchart:hover {\n",
              "    background-color: var(--hover-bg-color);\n",
              "    box-shadow: 0 1px 2px rgba(60, 64, 67, 0.3), 0 1px 3px 1px rgba(60, 64, 67, 0.15);\n",
              "    fill: var(--button-hover-fill-color);\n",
              "  }\n",
              "\n",
              "  .colab-df-quickchart-complete:disabled,\n",
              "  .colab-df-quickchart-complete:disabled:hover {\n",
              "    background-color: var(--disabled-bg-color);\n",
              "    fill: var(--disabled-fill-color);\n",
              "    box-shadow: none;\n",
              "  }\n",
              "\n",
              "  .colab-df-spinner {\n",
              "    border: 2px solid var(--fill-color);\n",
              "    border-color: transparent;\n",
              "    border-bottom-color: var(--fill-color);\n",
              "    animation:\n",
              "      spin 1s steps(1) infinite;\n",
              "  }\n",
              "\n",
              "  @keyframes spin {\n",
              "    0% {\n",
              "      border-color: transparent;\n",
              "      border-bottom-color: var(--fill-color);\n",
              "      border-left-color: var(--fill-color);\n",
              "    }\n",
              "    20% {\n",
              "      border-color: transparent;\n",
              "      border-left-color: var(--fill-color);\n",
              "      border-top-color: var(--fill-color);\n",
              "    }\n",
              "    30% {\n",
              "      border-color: transparent;\n",
              "      border-left-color: var(--fill-color);\n",
              "      border-top-color: var(--fill-color);\n",
              "      border-right-color: var(--fill-color);\n",
              "    }\n",
              "    40% {\n",
              "      border-color: transparent;\n",
              "      border-right-color: var(--fill-color);\n",
              "      border-top-color: var(--fill-color);\n",
              "    }\n",
              "    60% {\n",
              "      border-color: transparent;\n",
              "      border-right-color: var(--fill-color);\n",
              "    }\n",
              "    80% {\n",
              "      border-color: transparent;\n",
              "      border-right-color: var(--fill-color);\n",
              "      border-bottom-color: var(--fill-color);\n",
              "    }\n",
              "    90% {\n",
              "      border-color: transparent;\n",
              "      border-bottom-color: var(--fill-color);\n",
              "    }\n",
              "  }\n",
              "</style>\n",
              "\n",
              "  <script>\n",
              "    async function quickchart(key) {\n",
              "      const quickchartButtonEl =\n",
              "        document.querySelector('#' + key + ' button');\n",
              "      quickchartButtonEl.disabled = true;  // To prevent multiple clicks.\n",
              "      quickchartButtonEl.classList.add('colab-df-spinner');\n",
              "      try {\n",
              "        const charts = await google.colab.kernel.invokeFunction(\n",
              "            'suggestCharts', [key], {});\n",
              "      } catch (error) {\n",
              "        console.error('Error during call to suggestCharts:', error);\n",
              "      }\n",
              "      quickchartButtonEl.classList.remove('colab-df-spinner');\n",
              "      quickchartButtonEl.classList.add('colab-df-quickchart-complete');\n",
              "    }\n",
              "    (() => {\n",
              "      let quickchartButtonEl =\n",
              "        document.querySelector('#df-b7d23a5a-2157-44c7-95ad-89042a6be86a button');\n",
              "      quickchartButtonEl.style.display =\n",
              "        google.colab.kernel.accessAllowed ? 'block' : 'none';\n",
              "    })();\n",
              "  </script>\n",
              "</div>\n",
              "    </div>\n",
              "  </div>\n"
            ],
            "application/vnd.google.colaboratory.intrinsic+json": {
              "type": "dataframe",
              "variable_name": "df"
            }
          },
          "metadata": {},
          "execution_count": 10
        }
      ]
    },
    {
      "cell_type": "markdown",
      "source": [
        "#Небольшой анализ данных и визуализация"
      ],
      "metadata": {
        "id": "_xB-0lx1j5Gz"
      }
    },
    {
      "cell_type": "code",
      "source": [
        "import seaborn as sns\n",
        "monthly_payments = df.groupby(['year', 'month'])['service_amount_net'].agg(['sum', 'count']).reset_index()\n",
        "monthly_payments.columns = ['year', 'month', 'total_amount', 'transactions_count']\n",
        "monthly_payments['year_month'] = monthly_payments['year'].astype(str) + '-' + monthly_payments['month'].astype(str).str.zfill(2)\n",
        "# 3. Визуализация\n",
        "plt.figure(figsize=(14, 7))\n",
        "\n",
        "# График суммы выплат\n",
        "plt.subplot(2, 1, 1)\n",
        "sns.lineplot(data=monthly_payments, x='year_month', y='total_amount', marker='o', color='green')\n",
        "plt.title('Сумма страховых выплат по месяцам',fontsize=18)\n",
        "plt.xlabel('Месяц', fontsize=18)\n",
        "plt.ylabel('Сумма выплат', fontsize=18)\n",
        "plt.xticks(rotation=45)\n",
        "plt.grid(True)\n",
        "\n",
        "# График количества транзакций\n",
        "plt.subplot(2, 1, 2)\n",
        "sns.barplot(data=monthly_payments, x='year_month', y='transactions_count', color='green')\n",
        "plt.title('Количество транзакций по месяцам', fontsize=18)\n",
        "plt.xlabel('Месяц', fontsize=18)\n",
        "plt.ylabel('Количество', fontsize=18)\n",
        "plt.xticks(rotation=45)\n",
        "\n",
        "plt.tight_layout()\n",
        "\n",
        "plt.savefig(\"myPNG.png\")\n"
      ],
      "metadata": {
        "colab": {
          "base_uri": "https://localhost:8080/",
          "height": 568
        },
        "id": "EVadbDToE7AD",
        "outputId": "3b1fbd02-c0db-4e60-a7ef-31ffc7ff766c"
      },
      "execution_count": 79,
      "outputs": [
        {
          "output_type": "display_data",
          "data": {
            "text/plain": [
              "<Figure size 1400x700 with 2 Axes>"
            ],
            "image/png": "[encoded data removed]"
          },
          "metadata": {}
        }
      ]
    },
    {
      "cell_type": "code",
      "source": [
        "monthly_avg_check = df.groupby(['year', 'month']).agg(\n",
        "    avg_payment=('service_amount_net', 'mean'),\n",
        "    transaction_count=('service_amount_net', 'count')\n",
        ").reset_index()\n",
        "\n",
        "# Добавляем удобную колонку с датой\n",
        "monthly_avg_check['year_month'] = monthly_avg_check['year'].astype(str) + '-' + monthly_avg_check['month'].astype(str).str.zfill(2)\n",
        "\n",
        "# Визуализация\n",
        "plt.figure(figsize=(14, 8))\n",
        "plt.plot(monthly_avg_check['year_month'], monthly_avg_check['avg_payment'], marker='o', color='darkred')\n",
        "plt.title('Средний чек по всем услугам по месяцам', fontsize=18)\n",
        "plt.xlabel('Месяц', fontsize=18)\n",
        "plt.ylabel('Средний чек', fontsize=18)\n",
        "plt.xticks(rotation=45)\n",
        "plt.grid(True)\n",
        "\n",
        "# print(\"Таблица среднего чека по месяцам:\")\n",
        "# display(monthly_avg_check[['year_month', 'avg_payment', 'transaction_count']].head())\n",
        "plt.savefig('df.png')"
      ],
      "metadata": {
        "colab": {
          "base_uri": "https://localhost:8080/",
          "height": 725
        },
        "id": "tb30xOW0FECC",
        "outputId": "f3f4cd86-d492-4906-9088-e8624063a598"
      },
      "execution_count": 78,
      "outputs": [
        {
          "output_type": "display_data",
          "data": {
            "text/plain": [
              "<Figure size 1400x800 with 1 Axes>"
            ],
            "image/png": "[encoded data removed]"
          },
          "metadata": {}
        }
      ]
    },
    {
      "cell_type": "markdown",
      "source": [
        "#Получение датасета"
      ],
      "metadata": {
        "id": "jLuv5xk4uJj-"
      }
    },
    {
      "cell_type": "code",
      "source": [
        "# Создание нового датасета с необходимыми признаками\n",
        "summary_df = df.groupby('date').agg(\n",
        "    total_services=('service_document_id', 'count'),\n",
        "    total_payments=('service_amount_net', 'sum'),\n",
        "    average_payment=('service_amount_net', 'mean')\n",
        ").reset_index()\n",
        "\n",
        "summary_df['quantity_service_hospital'] = df[df['is_hospital'] == 1].groupby('service_date')['service_document_id'].transform('count')\n",
        "\n",
        "# Количество уникальных пациентских документов за день\n",
        "summary_df['unique_service_id'] = df.groupby('service_date')['service_document_id'].transform('nunique')\n",
        "\n",
        "# Количество уникальных счетов за день\n",
        "summary_df['unique_account_id'] = df.groupby('service_date')['account_document_id'].transform('nunique')\n",
        "\n",
        "summary_df[\"date\"] = pd.to_datetime(summary_df[\"date\"])\n",
        "summary_df = summary_df.set_index('date')\n",
        "summary_df = summary_df.fillna(0)\n",
        "\n",
        "summary_df"
      ],
      "metadata": {
        "colab": {
          "base_uri": "https://localhost:8080/",
          "height": 455
        },
        "id": "EOClTl4CtgUD",
        "outputId": "8b23c0a8-61c8-4a04-cb48-3ca6889e2910"
      },
      "execution_count": 11,
      "outputs": [
        {
          "output_type": "execute_result",
          "data": {
            "text/plain": [
              "            total_services  total_payments  average_payment  \\\n",
              "date                                                          \n",
              "2022-01-01              80       205120.00      2564.000000   \n",
              "2022-01-02             348       628479.09      1805.974397   \n",
              "2022-01-03             609      1144928.00      1880.013136   \n",
              "2022-01-04             566      1132375.51      2000.663445   \n",
              "2022-01-05             800      1539390.15      1924.237687   \n",
              "...                    ...             ...              ...   \n",
              "2023-12-27            1702      4571180.39      2685.769912   \n",
              "2023-12-28            1458      3503689.85      2403.079458   \n",
              "2023-12-29            1317      3089895.15      2346.161845   \n",
              "2023-12-30             981      2185798.27      2228.132793   \n",
              "2023-12-31             279       639818.50      2293.256272   \n",
              "\n",
              "            quantity_service_hospital  unique_service_id  unique_account_id  \n",
              "date                                                                         \n",
              "2022-01-01                        0.0                  1                  1  \n",
              "2022-01-02                        0.0                  1                  1  \n",
              "2022-01-03                        0.0                  1                  1  \n",
              "2022-01-04                        0.0                  1                  1  \n",
              "2022-01-05                        0.0                  1                  1  \n",
              "...                               ...                ...                ...  \n",
              "2023-12-27                        0.0                 10                 10  \n",
              "2023-12-28                        0.0                 10                 10  \n",
              "2023-12-29                        0.0                 10                 10  \n",
              "2023-12-30                        0.0                 10                 10  \n",
              "2023-12-31                        0.0                 10                 10  \n",
              "\n",
              "[730 rows x 6 columns]"
            ],
            "text/html": [
              "\n",
              "  <div id=\"df-60bdd741-3a0c-42eb-ba09-e6c613677637\" class=\"colab-df-container\">\n",
              "    <div>\n",
              "<style scoped>\n",
              "    .dataframe tbody tr th:only-of-type {\n",
              "        vertical-align: middle;\n",
              "    }\n",
              "\n",
              "    .dataframe tbody tr th {\n",
              "        vertical-align: top;\n",
              "    }\n",
              "\n",
              "    .dataframe thead th {\n",
              "        text-align: right;\n",
              "    }\n",
              "</style>\n",
              "<table border=\"1\" class=\"dataframe\">\n",
              "  <thead>\n",
              "    <tr style=\"text-align: right;\">\n",
              "      <th></th>\n",
              "      <th>total_services</th>\n",
              "      <th>total_payments</th>\n",
              "      <th>average_payment</th>\n",
              "      <th>quantity_service_hospital</th>\n",
              "      <th>unique_service_id</th>\n",
              "      <th>unique_account_id</th>\n",
              "    </tr>\n",
              "    <tr>\n",
              "      <th>date</th>\n",
              "      <th></th>\n",
              "      <th></th>\n",
              "      <th></th>\n",
              "      <th></th>\n",
              "      <th></th>\n",
              "      <th></th>\n",
              "    </tr>\n",
              "  </thead>\n",
              "  <tbody>\n",
              "    <tr>\n",
              "      <th>2022-01-01</th>\n",
              "      <td>80</td>\n",
              "      <td>205120.00</td>\n",
              "      <td>2564.000000</td>\n",
              "      <td>0.0</td>\n",
              "      <td>1</td>\n",
              "      <td>1</td>\n",
              "    </tr>\n",
              "    <tr>\n",
              "      <th>2022-01-02</th>\n",
              "      <td>348</td>\n",
              "      <td>628479.09</td>\n",
              "      <td>1805.974397</td>\n",
              "      <td>0.0</td>\n",
              "      <td>1</td>\n",
              "      <td>1</td>\n",
              "    </tr>\n",
              "    <tr>\n",
              "      <th>2022-01-03</th>\n",
              "      <td>609</td>\n",
              "      <td>1144928.00</td>\n",
              "      <td>1880.013136</td>\n",
              "      <td>0.0</td>\n",
              "      <td>1</td>\n",
              "      <td>1</td>\n",
              "    </tr>\n",
              "    <tr>\n",
              "      <th>2022-01-04</th>\n",
              "      <td>566</td>\n",
              "      <td>1132375.51</td>\n",
              "      <td>2000.663445</td>\n",
              "      <td>0.0</td>\n",
              "      <td>1</td>\n",
              "      <td>1</td>\n",
              "    </tr>\n",
              "    <tr>\n",
              "      <th>2022-01-05</th>\n",
              "      <td>800</td>\n",
              "      <td>1539390.15</td>\n",
              "      <td>1924.237687</td>\n",
              "      <td>0.0</td>\n",
              "      <td>1</td>\n",
              "      <td>1</td>\n",
              "    </tr>\n",
              "    <tr>\n",
              "      <th>...</th>\n",
              "      <td>...</td>\n",
              "      <td>...</td>\n",
              "      <td>...</td>\n",
              "      <td>...</td>\n",
              "      <td>...</td>\n",
              "      <td>...</td>\n",
              "    </tr>\n",
              "    <tr>\n",
              "      <th>2023-12-27</th>\n",
              "      <td>1702</td>\n",
              "      <td>4571180.39</td>\n",
              "      <td>2685.769912</td>\n",
              "      <td>0.0</td>\n",
              "      <td>10</td>\n",
              "      <td>10</td>\n",
              "    </tr>\n",
              "    <tr>\n",
              "      <th>2023-12-28</th>\n",
              "      <td>1458</td>\n",
              "      <td>3503689.85</td>\n",
              "      <td>2403.079458</td>\n",
              "      <td>0.0</td>\n",
              "      <td>10</td>\n",
              "      <td>10</td>\n",
              "    </tr>\n",
              "    <tr>\n",
              "      <th>2023-12-29</th>\n",
              "      <td>1317</td>\n",
              "      <td>3089895.15</td>\n",
              "      <td>2346.161845</td>\n",
              "      <td>0.0</td>\n",
              "      <td>10</td>\n",
              "      <td>10</td>\n",
              "    </tr>\n",
              "    <tr>\n",
              "      <th>2023-12-30</th>\n",
              "      <td>981</td>\n",
              "      <td>2185798.27</td>\n",
              "      <td>2228.132793</td>\n",
              "      <td>0.0</td>\n",
              "      <td>10</td>\n",
              "      <td>10</td>\n",
              "    </tr>\n",
              "    <tr>\n",
              "      <th>2023-12-31</th>\n",
              "      <td>279</td>\n",
              "      <td>639818.50</td>\n",
              "      <td>2293.256272</td>\n",
              "      <td>0.0</td>\n",
              "      <td>10</td>\n",
              "      <td>10</td>\n",
              "    </tr>\n",
              "  </tbody>\n",
              "</table>\n",
              "<p>730 rows × 6 columns</p>\n",
              "</div>\n",
              "    <div class=\"colab-df-buttons\">\n",
              "\n",
              "  <div class=\"colab-df-container\">\n",
              "    <button class=\"colab-df-convert\" onclick=\"convertToInteractive('df-60bdd741-3a0c-42eb-ba09-e6c613677637')\"\n",
              "            title=\"Convert this dataframe to an interactive table.\"\n",
              "            style=\"display:none;\">\n",
              "\n",
              "  <svg xmlns=\"http://www.w3.org/2000/svg\" height=\"24px\" viewBox=\"0 -960 960 960\">\n",
              "    <path d=\"M120-120v-720h720v720H120Zm60-500h600v-160H180v160Zm220 220h160v-160H400v160Zm0 220h160v-160H400v160ZM180-400h160v-160H180v160Zm440 0h160v-160H620v160ZM180-180h160v-160H180v160Zm440 0h160v-160H620v160Z\"/>\n",
              "  </svg>\n",
              "    </button>\n",
              "\n",
              "  <style>\n",
              "    .colab-df-container {\n",
              "      display:flex;\n",
              "      gap: 12px;\n",
              "    }\n",
              "\n",
              "    .colab-df-convert {\n",
              "      background-color: #E8F0FE;\n",
              "      border: none;\n",
              "      border-radius: 50%;\n",
              "      cursor: pointer;\n",
              "      display: none;\n",
              "      fill: #1967D2;\n",
              "      height: 32px;\n",
              "      padding: 0 0 0 0;\n",
              "      width: 32px;\n",
              "    }\n",
              "\n",
              "    .colab-df-convert:hover {\n",
              "      background-color: #E2EBFA;\n",
              "      box-shadow: 0px 1px 2px rgba(60, 64, 67, 0.3), 0px 1px 3px 1px rgba(60, 64, 67, 0.15);\n",
              "      fill: #174EA6;\n",
              "    }\n",
              "\n",
              "    .colab-df-buttons div {\n",
              "      margin-bottom: 4px;\n",
              "    }\n",
              "\n",
              "    [theme=dark] .colab-df-convert {\n",
              "      background-color: #3B4455;\n",
              "      fill: #D2E3FC;\n",
              "    }\n",
              "\n",
              "    [theme=dark] .colab-df-convert:hover {\n",
              "      background-color: #434B5C;\n",
              "      box-shadow: 0px 1px 3px 1px rgba(0, 0, 0, 0.15);\n",
              "      filter: drop-shadow(0px 1px 2px rgba(0, 0, 0, 0.3));\n",
              "      fill: #FFFFFF;\n",
              "    }\n",
              "  </style>\n",
              "\n",
              "    <script>\n",
              "      const buttonEl =\n",
              "        document.querySelector('#df-60bdd741-3a0c-42eb-ba09-e6c613677637 button.colab-df-convert');\n",
              "      buttonEl.style.display =\n",
              "        google.colab.kernel.accessAllowed ? 'block' : 'none';\n",
              "\n",
              "      async function convertToInteractive(key) {\n",
              "        const element = document.querySelector('#df-60bdd741-3a0c-42eb-ba09-e6c613677637');\n",
              "        const dataTable =\n",
              "          await google.colab.kernel.invokeFunction('convertToInteractive',\n",
              "                                                    [key], {});\n",
              "        if (!dataTable) return;\n",
              "\n",
              "        const docLinkHtml = 'Like what you see? Visit the ' +\n",
              "          '<a target=\"_blank\" href=https://colab.research.google.com/notebooks/data_table.ipynb>data table notebook</a>'\n",
              "          + ' to learn more about interactive tables.';\n",
              "        element.innerHTML = '';\n",
              "        dataTable['output_type'] = 'display_data';\n",
              "        await google.colab.output.renderOutput(dataTable, element);\n",
              "        const docLink = document.createElement('div');\n",
              "        docLink.innerHTML = docLinkHtml;\n",
              "        element.appendChild(docLink);\n",
              "      }\n",
              "    </script>\n",
              "  </div>\n",
              "\n",
              "\n",
              "<div id=\"df-c4f642bf-74eb-48e0-88ec-65e66733ae0c\">\n",
              "  <button class=\"colab-df-quickchart\" onclick=\"quickchart('df-c4f642bf-74eb-48e0-88ec-65e66733ae0c')\"\n",
              "            title=\"Suggest charts\"\n",
              "            style=\"display:none;\">\n",
              "\n",
              "<svg xmlns=\"http://www.w3.org/2000/svg\" height=\"24px\"viewBox=\"0 0 24 24\"\n",
              "     width=\"24px\">\n",
              "    <g>\n",
              "        <path d=\"M19 3H5c-1.1 0-2 .9-2 2v14c0 1.1.9 2 2 2h14c1.1 0 2-.9 2-2V5c0-1.1-.9-2-2-2zM9 17H7v-7h2v7zm4 0h-2V7h2v10zm4 0h-2v-4h2v4z\"/>\n",
              "    </g>\n",
              "</svg>\n",
              "  </button>\n",
              "\n",
              "<style>\n",
              "  .colab-df-quickchart {\n",
              "      --bg-color: #E8F0FE;\n",
              "      --fill-color: #1967D2;\n",
              "      --hover-bg-color: #E2EBFA;\n",
              "      --hover-fill-color: #174EA6;\n",
              "      --disabled-fill-color: #AAA;\n",
              "      --disabled-bg-color: #DDD;\n",
              "  }\n",
              "\n",
              "  [theme=dark] .colab-df-quickchart {\n",
              "      --bg-color: #3B4455;\n",
              "      --fill-color: #D2E3FC;\n",
              "      --hover-bg-color: #434B5C;\n",
              "      --hover-fill-color: #FFFFFF;\n",
              "      --disabled-bg-color: #3B4455;\n",
              "      --disabled-fill-color: #666;\n",
              "  }\n",
              "\n",
              "  .colab-df-quickchart {\n",
              "    background-color: var(--bg-color);\n",
              "    border: none;\n",
              "    border-radius: 50%;\n",
              "    cursor: pointer;\n",
              "    display: none;\n",
              "    fill: var(--fill-color);\n",
              "    height: 32px;\n",
              "    padding: 0;\n",
              "    width: 32px;\n",
              "  }\n",
              "\n",
              "  .colab-df-quickchart:hover {\n",
              "    background-color: var(--hover-bg-color);\n",
              "    box-shadow: 0 1px 2px rgba(60, 64, 67, 0.3), 0 1px 3px 1px rgba(60, 64, 67, 0.15);\n",
              "    fill: var(--button-hover-fill-color);\n",
              "  }\n",
              "\n",
              "  .colab-df-quickchart-complete:disabled,\n",
              "  .colab-df-quickchart-complete:disabled:hover {\n",
              "    background-color: var(--disabled-bg-color);\n",
              "    fill: var(--disabled-fill-color);\n",
              "    box-shadow: none;\n",
              "  }\n",
              "\n",
              "  .colab-df-spinner {\n",
              "    border: 2px solid var(--fill-color);\n",
              "    border-color: transparent;\n",
              "    border-bottom-color: var(--fill-color);\n",
              "    animation:\n",
              "      spin 1s steps(1) infinite;\n",
              "  }\n",
              "\n",
              "  @keyframes spin {\n",
              "    0% {\n",
              "      border-color: transparent;\n",
              "      border-bottom-color: var(--fill-color);\n",
              "      border-left-color: var(--fill-color);\n",
              "    }\n",
              "    20% {\n",
              "      border-color: transparent;\n",
              "      border-left-color: var(--fill-color);\n",
              "      border-top-color: var(--fill-color);\n",
              "    }\n",
              "    30% {\n",
              "      border-color: transparent;\n",
              "      border-left-color: var(--fill-color);\n",
              "      border-top-color: var(--fill-color);\n",
              "      border-right-color: var(--fill-color);\n",
              "    }\n",
              "    40% {\n",
              "      border-color: transparent;\n",
              "      border-right-color: var(--fill-color);\n",
              "      border-top-color: var(--fill-color);\n",
              "    }\n",
              "    60% {\n",
              "      border-color: transparent;\n",
              "      border-right-color: var(--fill-color);\n",
              "    }\n",
              "    80% {\n",
              "      border-color: transparent;\n",
              "      border-right-color: var(--fill-color);\n",
              "      border-bottom-color: var(--fill-color);\n",
              "    }\n",
              "    90% {\n",
              "      border-color: transparent;\n",
              "      border-bottom-color: var(--fill-color);\n",
              "    }\n",
              "  }\n",
              "</style>\n",
              "\n",
              "  <script>\n",
              "    async function quickchart(key) {\n",
              "      const quickchartButtonEl =\n",
              "        document.querySelector('#' + key + ' button');\n",
              "      quickchartButtonEl.disabled = true;  // To prevent multiple clicks.\n",
              "      quickchartButtonEl.classList.add('colab-df-spinner');\n",
              "      try {\n",
              "        const charts = await google.colab.kernel.invokeFunction(\n",
              "            'suggestCharts', [key], {});\n",
              "      } catch (error) {\n",
              "        console.error('Error during call to suggestCharts:', error);\n",
              "      }\n",
              "      quickchartButtonEl.classList.remove('colab-df-spinner');\n",
              "      quickchartButtonEl.classList.add('colab-df-quickchart-complete');\n",
              "    }\n",
              "    (() => {\n",
              "      let quickchartButtonEl =\n",
              "        document.querySelector('#df-c4f642bf-74eb-48e0-88ec-65e66733ae0c button');\n",
              "      quickchartButtonEl.style.display =\n",
              "        google.colab.kernel.accessAllowed ? 'block' : 'none';\n",
              "    })();\n",
              "  </script>\n",
              "</div>\n",
              "    </div>\n",
              "  </div>\n"
            ],
            "application/vnd.google.colaboratory.intrinsic+json": {
              "type": "dataframe",
              "variable_name": "summary_df",
              "summary": "{\n  \"name\": \"summary_df\",\n  \"rows\": 730,\n  \"fields\": [\n    {\n      \"column\": \"date\",\n      \"properties\": {\n        \"dtype\": \"date\",\n        \"min\": \"2022-01-01 00:00:00\",\n        \"max\": \"2023-12-31 00:00:00\",\n        \"num_unique_values\": 730,\n        \"samples\": [\n          \"2023-04-14 00:00:00\",\n          \"2022-05-29 00:00:00\",\n          \"2022-10-30 00:00:00\"\n        ],\n        \"semantic_type\": \"\",\n        \"description\": \"\"\n      }\n    },\n    {\n      \"column\": \"total_services\",\n      \"properties\": {\n        \"dtype\": \"number\",\n        \"std\": 356,\n        \"min\": 80,\n        \"max\": 3672,\n        \"num_unique_values\": 546,\n        \"samples\": [\n          684,\n          1715,\n          1473\n        ],\n        \"semantic_type\": \"\",\n        \"description\": \"\"\n      }\n    },\n    {\n      \"column\": \"total_payments\",\n      \"properties\": {\n        \"dtype\": \"number\",\n        \"std\": 1030335.8432343748,\n        \"min\": 205120.0,\n        \"max\": 6210068.3,\n        \"num_unique_values\": 730,\n        \"samples\": [\n          5119354.37,\n          2083661.2,\n          2050948.85\n        ],\n        \"semantic_type\": \"\",\n        \"description\": \"\"\n      }\n    },\n    {\n      \"column\": \"average_payment\",\n      \"properties\": {\n        \"dtype\": \"number\",\n        \"std\": 322.6141506506892,\n        \"min\": 815.6287990196079,\n        \"max\": 5170.747960033305,\n        \"num_unique_values\": 730,\n        \"samples\": [\n          2497.2460341463416,\n          1902.8869406392694,\n          1897.2699814986124\n        ],\n        \"semantic_type\": \"\",\n        \"description\": \"\"\n      }\n    },\n    {\n      \"column\": \"quantity_service_hospital\",\n      \"properties\": {\n        \"dtype\": \"number\",\n        \"std\": 4.952011664727201,\n        \"min\": 0.0,\n        \"max\": 26.0,\n        \"num_unique_values\": 6,\n        \"samples\": [\n          0.0,\n          1.0,\n          6.0\n        ],\n        \"semantic_type\": \"\",\n        \"description\": \"\"\n      }\n    },\n    {\n      \"column\": \"unique_service_id\",\n      \"properties\": {\n        \"dtype\": \"number\",\n        \"std\": 6,\n        \"min\": 1,\n        \"max\": 30,\n        \"num_unique_values\": 16,\n        \"samples\": [\n          1,\n          3,\n          9\n        ],\n        \"semantic_type\": \"\",\n        \"description\": \"\"\n      }\n    },\n    {\n      \"column\": \"unique_account_id\",\n      \"properties\": {\n        \"dtype\": \"number\",\n        \"std\": 6,\n        \"min\": 1,\n        \"max\": 30,\n        \"num_unique_values\": 16,\n        \"samples\": [\n          1,\n          3,\n          9\n        ],\n        \"semantic_type\": \"\",\n        \"description\": \"\"\n      }\n    }\n  ]\n}"
            }
          },
          "metadata": {},
          "execution_count": 11
        }
      ]
    },
    {
      "cell_type": "markdown",
      "source": [
        "Создание датасета с 24м годом и группировка по неделям"
      ],
      "metadata": {
        "id": "LYrQeMhoxFhM"
      }
    },
    {
      "cell_type": "code",
      "source": [
        "w = pd.period_range('2024-01-01', periods=365, freq='1D')\n",
        "w = pd.DataFrame(index=w)\n",
        "w.index.name = 'date'\n",
        "w = w.to_timestamp()\n",
        "w\n",
        "# Добавляем дополнительные даты в DataFrame\n",
        "sd = pd.concat([summary_df, w])\n",
        "\n",
        "sd.index = pd.to_datetime(sd.index)\n",
        "\n",
        "sd['date'] = sd.index\n",
        "sd['month'] = pd.to_datetime(sd['date']).dt.month        # Месяц\n",
        "sd['year'] = pd.to_datetime(sd['date']).dt.year          # Год\n",
        "sd['week'] = pd.to_datetime(sd['date']).dt.isocalendar().week\n",
        "\n",
        "sd = sd.fillna(0)\n",
        "\n",
        "sd = sd.groupby(['year', 'week']).agg(\n",
        "    date=('date', 'max'),\n",
        "    total_services=('total_services', 'sum'),\n",
        "    total_payments=('total_payments', 'sum'),\n",
        "    average_payment=('average_payment', 'mean'),\n",
        "    unique_service_id=('unique_service_id', 'mean'),\n",
        "    unique_account_id=('unique_account_id', 'mean'))\n",
        "\n",
        "sd.index=sd['date']\n",
        "sd"
      ],
      "metadata": {
        "colab": {
          "base_uri": "https://localhost:8080/",
          "height": 455
        },
        "id": "NP1KIq0ZtgRr",
        "outputId": "68abddb7-e3d8-4a74-f677-83ebe43d8d45"
      },
      "execution_count": 12,
      "outputs": [
        {
          "output_type": "execute_result",
          "data": {
            "text/plain": [
              "                 date  total_services  total_payments  average_payment  \\\n",
              "date                                                                     \n",
              "2022-01-09 2022-01-09          4481.0      9277261.94      2080.272669   \n",
              "2022-01-16 2022-01-16          8294.0     17662531.00      2139.590805   \n",
              "2022-01-23 2022-01-23          8684.0     20082785.14      2293.482123   \n",
              "2022-01-30 2022-01-30          8581.0     21032283.79      2425.257878   \n",
              "2022-02-06 2022-02-06          9497.0     20500927.08      2147.068595   \n",
              "...               ...             ...             ...              ...   \n",
              "2024-12-01 2024-12-01             0.0            0.00         0.000000   \n",
              "2024-12-08 2024-12-08             0.0            0.00         0.000000   \n",
              "2024-12-15 2024-12-15             0.0            0.00         0.000000   \n",
              "2024-12-22 2024-12-22             0.0            0.00         0.000000   \n",
              "2024-12-29 2024-12-29             0.0            0.00         0.000000   \n",
              "\n",
              "            unique_service_id  unique_account_id  \n",
              "date                                              \n",
              "2022-01-09           1.000000           1.000000  \n",
              "2022-01-16           1.857143           1.857143  \n",
              "2022-01-23           1.285714           1.285714  \n",
              "2022-01-30           2.714286           2.714286  \n",
              "2022-02-06           2.142857           2.142857  \n",
              "...                       ...                ...  \n",
              "2024-12-01           0.000000           0.000000  \n",
              "2024-12-08           0.000000           0.000000  \n",
              "2024-12-15           0.000000           0.000000  \n",
              "2024-12-22           0.000000           0.000000  \n",
              "2024-12-29           0.000000           0.000000  \n",
              "\n",
              "[156 rows x 6 columns]"
            ],
            "text/html": [
              "\n",
              "  <div id=\"df-c1eabbf1-05e6-4438-8783-5667ca39c3eb\" class=\"colab-df-container\">\n",
              "    <div>\n",
              "<style scoped>\n",
              "    .dataframe tbody tr th:only-of-type {\n",
              "        vertical-align: middle;\n",
              "    }\n",
              "\n",
              "    .dataframe tbody tr th {\n",
              "        vertical-align: top;\n",
              "    }\n",
              "\n",
              "    .dataframe thead th {\n",
              "        text-align: right;\n",
              "    }\n",
              "</style>\n",
              "<table border=\"1\" class=\"dataframe\">\n",
              "  <thead>\n",
              "    <tr style=\"text-align: right;\">\n",
              "      <th></th>\n",
              "      <th>date</th>\n",
              "      <th>total_services</th>\n",
              "      <th>total_payments</th>\n",
              "      <th>average_payment</th>\n",
              "      <th>unique_service_id</th>\n",
              "      <th>unique_account_id</th>\n",
              "    </tr>\n",
              "    <tr>\n",
              "      <th>date</th>\n",
              "      <th></th>\n",
              "      <th></th>\n",
              "      <th></th>\n",
              "      <th></th>\n",
              "      <th></th>\n",
              "      <th></th>\n",
              "    </tr>\n",
              "  </thead>\n",
              "  <tbody>\n",
              "    <tr>\n",
              "      <th>2022-01-09</th>\n",
              "      <td>2022-01-09</td>\n",
              "      <td>4481.0</td>\n",
              "      <td>9277261.94</td>\n",
              "      <td>2080.272669</td>\n",
              "      <td>1.000000</td>\n",
              "      <td>1.000000</td>\n",
              "    </tr>\n",
              "    <tr>\n",
              "      <th>2022-01-16</th>\n",
              "      <td>2022-01-16</td>\n",
              "      <td>8294.0</td>\n",
              "      <td>17662531.00</td>\n",
              "      <td>2139.590805</td>\n",
              "      <td>1.857143</td>\n",
              "      <td>1.857143</td>\n",
              "    </tr>\n",
              "    <tr>\n",
              "      <th>2022-01-23</th>\n",
              "      <td>2022-01-23</td>\n",
              "      <td>8684.0</td>\n",
              "      <td>20082785.14</td>\n",
              "      <td>2293.482123</td>\n",
              "      <td>1.285714</td>\n",
              "      <td>1.285714</td>\n",
              "    </tr>\n",
              "    <tr>\n",
              "      <th>2022-01-30</th>\n",
              "      <td>2022-01-30</td>\n",
              "      <td>8581.0</td>\n",
              "      <td>21032283.79</td>\n",
              "      <td>2425.257878</td>\n",
              "      <td>2.714286</td>\n",
              "      <td>2.714286</td>\n",
              "    </tr>\n",
              "    <tr>\n",
              "      <th>2022-02-06</th>\n",
              "      <td>2022-02-06</td>\n",
              "      <td>9497.0</td>\n",
              "      <td>20500927.08</td>\n",
              "      <td>2147.068595</td>\n",
              "      <td>2.142857</td>\n",
              "      <td>2.142857</td>\n",
              "    </tr>\n",
              "    <tr>\n",
              "      <th>...</th>\n",
              "      <td>...</td>\n",
              "      <td>...</td>\n",
              "      <td>...</td>\n",
              "      <td>...</td>\n",
              "      <td>...</td>\n",
              "      <td>...</td>\n",
              "    </tr>\n",
              "    <tr>\n",
              "      <th>2024-12-01</th>\n",
              "      <td>2024-12-01</td>\n",
              "      <td>0.0</td>\n",
              "      <td>0.00</td>\n",
              "      <td>0.000000</td>\n",
              "      <td>0.000000</td>\n",
              "      <td>0.000000</td>\n",
              "    </tr>\n",
              "    <tr>\n",
              "      <th>2024-12-08</th>\n",
              "      <td>2024-12-08</td>\n",
              "      <td>0.0</td>\n",
              "      <td>0.00</td>\n",
              "      <td>0.000000</td>\n",
              "      <td>0.000000</td>\n",
              "      <td>0.000000</td>\n",
              "    </tr>\n",
              "    <tr>\n",
              "      <th>2024-12-15</th>\n",
              "      <td>2024-12-15</td>\n",
              "      <td>0.0</td>\n",
              "      <td>0.00</td>\n",
              "      <td>0.000000</td>\n",
              "      <td>0.000000</td>\n",
              "      <td>0.000000</td>\n",
              "    </tr>\n",
              "    <tr>\n",
              "      <th>2024-12-22</th>\n",
              "      <td>2024-12-22</td>\n",
              "      <td>0.0</td>\n",
              "      <td>0.00</td>\n",
              "      <td>0.000000</td>\n",
              "      <td>0.000000</td>\n",
              "      <td>0.000000</td>\n",
              "    </tr>\n",
              "    <tr>\n",
              "      <th>2024-12-29</th>\n",
              "      <td>2024-12-29</td>\n",
              "      <td>0.0</td>\n",
              "      <td>0.00</td>\n",
              "      <td>0.000000</td>\n",
              "      <td>0.000000</td>\n",
              "      <td>0.000000</td>\n",
              "    </tr>\n",
              "  </tbody>\n",
              "</table>\n",
              "<p>156 rows × 6 columns</p>\n",
              "</div>\n",
              "    <div class=\"colab-df-buttons\">\n",
              "\n",
              "  <div class=\"colab-df-container\">\n",
              "    <button class=\"colab-df-convert\" onclick=\"convertToInteractive('df-c1eabbf1-05e6-4438-8783-5667ca39c3eb')\"\n",
              "            title=\"Convert this dataframe to an interactive table.\"\n",
              "            style=\"display:none;\">\n",
              "\n",
              "  <svg xmlns=\"http://www.w3.org/2000/svg\" height=\"24px\" viewBox=\"0 -960 960 960\">\n",
              "    <path d=\"M120-120v-720h720v720H120Zm60-500h600v-160H180v160Zm220 220h160v-160H400v160Zm0 220h160v-160H400v160ZM180-400h160v-160H180v160Zm440 0h160v-160H620v160ZM180-180h160v-160H180v160Zm440 0h160v-160H620v160Z\"/>\n",
              "  </svg>\n",
              "    </button>\n",
              "\n",
              "  <style>\n",
              "    .colab-df-container {\n",
              "      display:flex;\n",
              "      gap: 12px;\n",
              "    }\n",
              "\n",
              "    .colab-df-convert {\n",
              "      background-color: #E8F0FE;\n",
              "      border: none;\n",
              "      border-radius: 50%;\n",
              "      cursor: pointer;\n",
              "      display: none;\n",
              "      fill: #1967D2;\n",
              "      height: 32px;\n",
              "      padding: 0 0 0 0;\n",
              "      width: 32px;\n",
              "    }\n",
              "\n",
              "    .colab-df-convert:hover {\n",
              "      background-color: #E2EBFA;\n",
              "      box-shadow: 0px 1px 2px rgba(60, 64, 67, 0.3), 0px 1px 3px 1px rgba(60, 64, 67, 0.15);\n",
              "      fill: #174EA6;\n",
              "    }\n",
              "\n",
              "    .colab-df-buttons div {\n",
              "      margin-bottom: 4px;\n",
              "    }\n",
              "\n",
              "    [theme=dark] .colab-df-convert {\n",
              "      background-color: #3B4455;\n",
              "      fill: #D2E3FC;\n",
              "    }\n",
              "\n",
              "    [theme=dark] .colab-df-convert:hover {\n",
              "      background-color: #434B5C;\n",
              "      box-shadow: 0px 1px 3px 1px rgba(0, 0, 0, 0.15);\n",
              "      filter: drop-shadow(0px 1px 2px rgba(0, 0, 0, 0.3));\n",
              "      fill: #FFFFFF;\n",
              "    }\n",
              "  </style>\n",
              "\n",
              "    <script>\n",
              "      const buttonEl =\n",
              "        document.querySelector('#df-c1eabbf1-05e6-4438-8783-5667ca39c3eb button.colab-df-convert');\n",
              "      buttonEl.style.display =\n",
              "        google.colab.kernel.accessAllowed ? 'block' : 'none';\n",
              "\n",
              "      async function convertToInteractive(key) {\n",
              "        const element = document.querySelector('#df-c1eabbf1-05e6-4438-8783-5667ca39c3eb');\n",
              "        const dataTable =\n",
              "          await google.colab.kernel.invokeFunction('convertToInteractive',\n",
              "                                                    [key], {});\n",
              "        if (!dataTable) return;\n",
              "\n",
              "        const docLinkHtml = 'Like what you see? Visit the ' +\n",
              "          '<a target=\"_blank\" href=https://colab.research.google.com/notebooks/data_table.ipynb>data table notebook</a>'\n",
              "          + ' to learn more about interactive tables.';\n",
              "        element.innerHTML = '';\n",
              "        dataTable['output_type'] = 'display_data';\n",
              "        await google.colab.output.renderOutput(dataTable, element);\n",
              "        const docLink = document.createElement('div');\n",
              "        docLink.innerHTML = docLinkHtml;\n",
              "        element.appendChild(docLink);\n",
              "      }\n",
              "    </script>\n",
              "  </div>\n",
              "\n",
              "\n",
              "<div id=\"df-397efb64-beef-4b3a-8739-3f3a0da725e3\">\n",
              "  <button class=\"colab-df-quickchart\" onclick=\"quickchart('df-397efb64-beef-4b3a-8739-3f3a0da725e3')\"\n",
              "            title=\"Suggest charts\"\n",
              "            style=\"display:none;\">\n",
              "\n",
              "<svg xmlns=\"http://www.w3.org/2000/svg\" height=\"24px\"viewBox=\"0 0 24 24\"\n",
              "     width=\"24px\">\n",
              "    <g>\n",
              "        <path d=\"M19 3H5c-1.1 0-2 .9-2 2v14c0 1.1.9 2 2 2h14c1.1 0 2-.9 2-2V5c0-1.1-.9-2-2-2zM9 17H7v-7h2v7zm4 0h-2V7h2v10zm4 0h-2v-4h2v4z\"/>\n",
              "    </g>\n",
              "</svg>\n",
              "  </button>\n",
              "\n",
              "<style>\n",
              "  .colab-df-quickchart {\n",
              "      --bg-color: #E8F0FE;\n",
              "      --fill-color: #1967D2;\n",
              "      --hover-bg-color: #E2EBFA;\n",
              "      --hover-fill-color: #174EA6;\n",
              "      --disabled-fill-color: #AAA;\n",
              "      --disabled-bg-color: #DDD;\n",
              "  }\n",
              "\n",
              "  [theme=dark] .colab-df-quickchart {\n",
              "      --bg-color: #3B4455;\n",
              "      --fill-color: #D2E3FC;\n",
              "      --hover-bg-color: #434B5C;\n",
              "      --hover-fill-color: #FFFFFF;\n",
              "      --disabled-bg-color: #3B4455;\n",
              "      --disabled-fill-color: #666;\n",
              "  }\n",
              "\n",
              "  .colab-df-quickchart {\n",
              "    background-color: var(--bg-color);\n",
              "    border: none;\n",
              "    border-radius: 50%;\n",
              "    cursor: pointer;\n",
              "    display: none;\n",
              "    fill: var(--fill-color);\n",
              "    height: 32px;\n",
              "    padding: 0;\n",
              "    width: 32px;\n",
              "  }\n",
              "\n",
              "  .colab-df-quickchart:hover {\n",
              "    background-color: var(--hover-bg-color);\n",
              "    box-shadow: 0 1px 2px rgba(60, 64, 67, 0.3), 0 1px 3px 1px rgba(60, 64, 67, 0.15);\n",
              "    fill: var(--button-hover-fill-color);\n",
              "  }\n",
              "\n",
              "  .colab-df-quickchart-complete:disabled,\n",
              "  .colab-df-quickchart-complete:disabled:hover {\n",
              "    background-color: var(--disabled-bg-color);\n",
              "    fill: var(--disabled-fill-color);\n",
              "    box-shadow: none;\n",
              "  }\n",
              "\n",
              "  .colab-df-spinner {\n",
              "    border: 2px solid var(--fill-color);\n",
              "    border-color: transparent;\n",
              "    border-bottom-color: var(--fill-color);\n",
              "    animation:\n",
              "      spin 1s steps(1) infinite;\n",
              "  }\n",
              "\n",
              "  @keyframes spin {\n",
              "    0% {\n",
              "      border-color: transparent;\n",
              "      border-bottom-color: var(--fill-color);\n",
              "      border-left-color: var(--fill-color);\n",
              "    }\n",
              "    20% {\n",
              "      border-color: transparent;\n",
              "      border-left-color: var(--fill-color);\n",
              "      border-top-color: var(--fill-color);\n",
              "    }\n",
              "    30% {\n",
              "      border-color: transparent;\n",
              "      border-left-color: var(--fill-color);\n",
              "      border-top-color: var(--fill-color);\n",
              "      border-right-color: var(--fill-color);\n",
              "    }\n",
              "    40% {\n",
              "      border-color: transparent;\n",
              "      border-right-color: var(--fill-color);\n",
              "      border-top-color: var(--fill-color);\n",
              "    }\n",
              "    60% {\n",
              "      border-color: transparent;\n",
              "      border-right-color: var(--fill-color);\n",
              "    }\n",
              "    80% {\n",
              "      border-color: transparent;\n",
              "      border-right-color: var(--fill-color);\n",
              "      border-bottom-color: var(--fill-color);\n",
              "    }\n",
              "    90% {\n",
              "      border-color: transparent;\n",
              "      border-bottom-color: var(--fill-color);\n",
              "    }\n",
              "  }\n",
              "</style>\n",
              "\n",
              "  <script>\n",
              "    async function quickchart(key) {\n",
              "      const quickchartButtonEl =\n",
              "        document.querySelector('#' + key + ' button');\n",
              "      quickchartButtonEl.disabled = true;  // To prevent multiple clicks.\n",
              "      quickchartButtonEl.classList.add('colab-df-spinner');\n",
              "      try {\n",
              "        const charts = await google.colab.kernel.invokeFunction(\n",
              "            'suggestCharts', [key], {});\n",
              "      } catch (error) {\n",
              "        console.error('Error during call to suggestCharts:', error);\n",
              "      }\n",
              "      quickchartButtonEl.classList.remove('colab-df-spinner');\n",
              "      quickchartButtonEl.classList.add('colab-df-quickchart-complete');\n",
              "    }\n",
              "    (() => {\n",
              "      let quickchartButtonEl =\n",
              "        document.querySelector('#df-397efb64-beef-4b3a-8739-3f3a0da725e3 button');\n",
              "      quickchartButtonEl.style.display =\n",
              "        google.colab.kernel.accessAllowed ? 'block' : 'none';\n",
              "    })();\n",
              "  </script>\n",
              "</div>\n",
              "    </div>\n",
              "  </div>\n"
            ],
            "application/vnd.google.colaboratory.intrinsic+json": {
              "type": "dataframe",
              "variable_name": "sd",
              "repr_error": "cannot insert date, already exists"
            }
          },
          "metadata": {},
          "execution_count": 12
        }
      ]
    },
    {
      "cell_type": "code",
      "source": [
        "# Скользящее среднее на 3 месяца, пол года и год\n",
        "sd['ma_12'] = sd['total_payments'].rolling(window=12, min_periods=0, closed=\"both\", center=False).mean()\n",
        "sd['ma_24'] = sd['total_payments'].rolling(window=24, min_periods=0, closed=\"both\", center=False).mean()\n",
        "sd['ma_52'] = sd['total_payments'].rolling(window=52, min_periods=0, closed=\"both\", center=False).mean()\n",
        "\n",
        "# 2. Общее количество услуг за последние 4 недели\n",
        "sd['total_services_last_year'] = sd['total_services'].rolling(window=25, min_periods=0, closed=\"both\", center=False).sum()\n",
        "sd['mean_payments_last_year'] = sd['average_payment'].rolling(window=25, min_periods=0, closed=\"both\", center=False).sum()\n",
        "\n",
        "# 3. Количество уникальных пациентов за последние 4 недели\n",
        "sd['unique_patients_last_year'] = sd['unique_account_id'].rolling(window=25, min_periods=0, closed=\"both\", center=False).mean()\n",
        "\n",
        "sd = sd.fillna(0)\n",
        "sd = sd.replace(0, 1)\n",
        "sd = sd.drop(columns='date')\n",
        "\n",
        "sd"
      ],
      "metadata": {
        "colab": {
          "base_uri": "https://localhost:8080/",
          "height": 648
        },
        "id": "vUrszTSttgPQ",
        "outputId": "624171a1-784e-44e5-baad-775defd3d202"
      },
      "execution_count": 13,
      "outputs": [
        {
          "output_type": "execute_result",
          "data": {
            "text/plain": [
              "            total_services  total_payments  average_payment  \\\n",
              "date                                                          \n",
              "2022-01-09          4481.0      9277261.94      2080.272669   \n",
              "2022-01-16          8294.0     17662531.00      2139.590805   \n",
              "2022-01-23          8684.0     20082785.14      2293.482123   \n",
              "2022-01-30          8581.0     21032283.79      2425.257878   \n",
              "2022-02-06          9497.0     20500927.08      2147.068595   \n",
              "...                    ...             ...              ...   \n",
              "2024-12-01             1.0            1.00         1.000000   \n",
              "2024-12-08             1.0            1.00         1.000000   \n",
              "2024-12-15             1.0            1.00         1.000000   \n",
              "2024-12-22             1.0            1.00         1.000000   \n",
              "2024-12-29             1.0            1.00         1.000000   \n",
              "\n",
              "            unique_service_id  unique_account_id         ma_12         ma_24  \\\n",
              "date                                                                           \n",
              "2022-01-09           1.000000           1.000000  9.277262e+06  9.277262e+06   \n",
              "2022-01-16           1.857143           1.857143  1.346990e+07  1.346990e+07   \n",
              "2022-01-23           1.285714           1.285714  1.567419e+07  1.567419e+07   \n",
              "2022-01-30           2.714286           2.714286  1.701372e+07  1.701372e+07   \n",
              "2022-02-06           2.142857           2.142857  1.771116e+07  1.771116e+07   \n",
              "...                       ...                ...           ...           ...   \n",
              "2024-12-01           1.000000           1.000000  1.000000e+00  1.000000e+00   \n",
              "2024-12-08           1.000000           1.000000  1.000000e+00  1.000000e+00   \n",
              "2024-12-15           1.000000           1.000000  1.000000e+00  1.000000e+00   \n",
              "2024-12-22           1.000000           1.000000  1.000000e+00  1.000000e+00   \n",
              "2024-12-29           1.000000           1.000000  1.000000e+00  1.000000e+00   \n",
              "\n",
              "                   ma_52  total_services_last_year  mean_payments_last_year  \\\n",
              "date                                                                          \n",
              "2022-01-09  9.277262e+06                    4481.0              2080.272669   \n",
              "2022-01-16  1.346990e+07                   12775.0              4219.863474   \n",
              "2022-01-23  1.567419e+07                   21459.0              6513.345597   \n",
              "2022-01-30  1.701372e+07                   30040.0              8938.603475   \n",
              "2022-02-06  1.771116e+07                   39537.0             11085.672070   \n",
              "...                  ...                       ...                      ...   \n",
              "2024-12-01  2.828329e+06                       1.0                 1.000000   \n",
              "2024-12-08  2.193947e+06                       1.0                 1.000000   \n",
              "2024-12-15  1.564076e+06                       1.0                 1.000000   \n",
              "2024-12-22  9.979279e+05                       1.0                 1.000000   \n",
              "2024-12-29  4.679035e+05                       1.0                 1.000000   \n",
              "\n",
              "            unique_patients_last_year  \n",
              "date                                   \n",
              "2022-01-09                   1.000000  \n",
              "2022-01-16                   1.428571  \n",
              "2022-01-23                   1.380952  \n",
              "2022-01-30                   1.714286  \n",
              "2022-02-06                   1.800000  \n",
              "...                               ...  \n",
              "2024-12-01                   1.000000  \n",
              "2024-12-08                   1.000000  \n",
              "2024-12-15                   1.000000  \n",
              "2024-12-22                   1.000000  \n",
              "2024-12-29                   1.000000  \n",
              "\n",
              "[156 rows x 11 columns]"
            ],
            "text/html": [
              "\n",
              "  <div id=\"df-b664a83e-1dd3-4799-9e27-3f19410e074b\" class=\"colab-df-container\">\n",
              "    <div>\n",
              "<style scoped>\n",
              "    .dataframe tbody tr th:only-of-type {\n",
              "        vertical-align: middle;\n",
              "    }\n",
              "\n",
              "    .dataframe tbody tr th {\n",
              "        vertical-align: top;\n",
              "    }\n",
              "\n",
              "    .dataframe thead th {\n",
              "        text-align: right;\n",
              "    }\n",
              "</style>\n",
              "<table border=\"1\" class=\"dataframe\">\n",
              "  <thead>\n",
              "    <tr style=\"text-align: right;\">\n",
              "      <th></th>\n",
              "      <th>total_services</th>\n",
              "      <th>total_payments</th>\n",
              "      <th>average_payment</th>\n",
              "      <th>unique_service_id</th>\n",
              "      <th>unique_account_id</th>\n",
              "      <th>ma_12</th>\n",
              "      <th>ma_24</th>\n",
              "      <th>ma_52</th>\n",
              "      <th>total_services_last_year</th>\n",
              "      <th>mean_payments_last_year</th>\n",
              "      <th>unique_patients_last_year</th>\n",
              "    </tr>\n",
              "    <tr>\n",
              "      <th>date</th>\n",
              "      <th></th>\n",
              "      <th></th>\n",
              "      <th></th>\n",
              "      <th></th>\n",
              "      <th></th>\n",
              "      <th></th>\n",
              "      <th></th>\n",
              "      <th></th>\n",
              "      <th></th>\n",
              "      <th></th>\n",
              "      <th></th>\n",
              "    </tr>\n",
              "  </thead>\n",
              "  <tbody>\n",
              "    <tr>\n",
              "      <th>2022-01-09</th>\n",
              "      <td>4481.0</td>\n",
              "      <td>9277261.94</td>\n",
              "      <td>2080.272669</td>\n",
              "      <td>1.000000</td>\n",
              "      <td>1.000000</td>\n",
              "      <td>9.277262e+06</td>\n",
              "      <td>9.277262e+06</td>\n",
              "      <td>9.277262e+06</td>\n",
              "      <td>4481.0</td>\n",
              "      <td>2080.272669</td>\n",
              "      <td>1.000000</td>\n",
              "    </tr>\n",
              "    <tr>\n",
              "      <th>2022-01-16</th>\n",
              "      <td>8294.0</td>\n",
              "      <td>17662531.00</td>\n",
              "      <td>2139.590805</td>\n",
              "      <td>1.857143</td>\n",
              "      <td>1.857143</td>\n",
              "      <td>1.346990e+07</td>\n",
              "      <td>1.346990e+07</td>\n",
              "      <td>1.346990e+07</td>\n",
              "      <td>12775.0</td>\n",
              "      <td>4219.863474</td>\n",
              "      <td>1.428571</td>\n",
              "    </tr>\n",
              "    <tr>\n",
              "      <th>2022-01-23</th>\n",
              "      <td>8684.0</td>\n",
              "      <td>20082785.14</td>\n",
              "      <td>2293.482123</td>\n",
              "      <td>1.285714</td>\n",
              "      <td>1.285714</td>\n",
              "      <td>1.567419e+07</td>\n",
              "      <td>1.567419e+07</td>\n",
              "      <td>1.567419e+07</td>\n",
              "      <td>21459.0</td>\n",
              "      <td>6513.345597</td>\n",
              "      <td>1.380952</td>\n",
              "    </tr>\n",
              "    <tr>\n",
              "      <th>2022-01-30</th>\n",
              "      <td>8581.0</td>\n",
              "      <td>21032283.79</td>\n",
              "      <td>2425.257878</td>\n",
              "      <td>2.714286</td>\n",
              "      <td>2.714286</td>\n",
              "      <td>1.701372e+07</td>\n",
              "      <td>1.701372e+07</td>\n",
              "      <td>1.701372e+07</td>\n",
              "      <td>30040.0</td>\n",
              "      <td>8938.603475</td>\n",
              "      <td>1.714286</td>\n",
              "    </tr>\n",
              "    <tr>\n",
              "      <th>2022-02-06</th>\n",
              "      <td>9497.0</td>\n",
              "      <td>20500927.08</td>\n",
              "      <td>2147.068595</td>\n",
              "      <td>2.142857</td>\n",
              "      <td>2.142857</td>\n",
              "      <td>1.771116e+07</td>\n",
              "      <td>1.771116e+07</td>\n",
              "      <td>1.771116e+07</td>\n",
              "      <td>39537.0</td>\n",
              "      <td>11085.672070</td>\n",
              "      <td>1.800000</td>\n",
              "    </tr>\n",
              "    <tr>\n",
              "      <th>...</th>\n",
              "      <td>...</td>\n",
              "      <td>...</td>\n",
              "      <td>...</td>\n",
              "      <td>...</td>\n",
              "      <td>...</td>\n",
              "      <td>...</td>\n",
              "      <td>...</td>\n",
              "      <td>...</td>\n",
              "      <td>...</td>\n",
              "      <td>...</td>\n",
              "      <td>...</td>\n",
              "    </tr>\n",
              "    <tr>\n",
              "      <th>2024-12-01</th>\n",
              "      <td>1.0</td>\n",
              "      <td>1.00</td>\n",
              "      <td>1.000000</td>\n",
              "      <td>1.000000</td>\n",
              "      <td>1.000000</td>\n",
              "      <td>1.000000e+00</td>\n",
              "      <td>1.000000e+00</td>\n",
              "      <td>2.828329e+06</td>\n",
              "      <td>1.0</td>\n",
              "      <td>1.000000</td>\n",
              "      <td>1.000000</td>\n",
              "    </tr>\n",
              "    <tr>\n",
              "      <th>2024-12-08</th>\n",
              "      <td>1.0</td>\n",
              "      <td>1.00</td>\n",
              "      <td>1.000000</td>\n",
              "      <td>1.000000</td>\n",
              "      <td>1.000000</td>\n",
              "      <td>1.000000e+00</td>\n",
              "      <td>1.000000e+00</td>\n",
              "      <td>2.193947e+06</td>\n",
              "      <td>1.0</td>\n",
              "      <td>1.000000</td>\n",
              "      <td>1.000000</td>\n",
              "    </tr>\n",
              "    <tr>\n",
              "      <th>2024-12-15</th>\n",
              "      <td>1.0</td>\n",
              "      <td>1.00</td>\n",
              "      <td>1.000000</td>\n",
              "      <td>1.000000</td>\n",
              "      <td>1.000000</td>\n",
              "      <td>1.000000e+00</td>\n",
              "      <td>1.000000e+00</td>\n",
              "      <td>1.564076e+06</td>\n",
              "      <td>1.0</td>\n",
              "      <td>1.000000</td>\n",
              "      <td>1.000000</td>\n",
              "    </tr>\n",
              "    <tr>\n",
              "      <th>2024-12-22</th>\n",
              "      <td>1.0</td>\n",
              "      <td>1.00</td>\n",
              "      <td>1.000000</td>\n",
              "      <td>1.000000</td>\n",
              "      <td>1.000000</td>\n",
              "      <td>1.000000e+00</td>\n",
              "      <td>1.000000e+00</td>\n",
              "      <td>9.979279e+05</td>\n",
              "      <td>1.0</td>\n",
              "      <td>1.000000</td>\n",
              "      <td>1.000000</td>\n",
              "    </tr>\n",
              "    <tr>\n",
              "      <th>2024-12-29</th>\n",
              "      <td>1.0</td>\n",
              "      <td>1.00</td>\n",
              "      <td>1.000000</td>\n",
              "      <td>1.000000</td>\n",
              "      <td>1.000000</td>\n",
              "      <td>1.000000e+00</td>\n",
              "      <td>1.000000e+00</td>\n",
              "      <td>4.679035e+05</td>\n",
              "      <td>1.0</td>\n",
              "      <td>1.000000</td>\n",
              "      <td>1.000000</td>\n",
              "    </tr>\n",
              "  </tbody>\n",
              "</table>\n",
              "<p>156 rows × 11 columns</p>\n",
              "</div>\n",
              "    <div class=\"colab-df-buttons\">\n",
              "\n",
              "  <div class=\"colab-df-container\">\n",
              "    <button class=\"colab-df-convert\" onclick=\"convertToInteractive('df-b664a83e-1dd3-4799-9e27-3f19410e074b')\"\n",
              "            title=\"Convert this dataframe to an interactive table.\"\n",
              "            style=\"display:none;\">\n",
              "\n",
              "  <svg xmlns=\"http://www.w3.org/2000/svg\" height=\"24px\" viewBox=\"0 -960 960 960\">\n",
              "    <path d=\"M120-120v-720h720v720H120Zm60-500h600v-160H180v160Zm220 220h160v-160H400v160Zm0 220h160v-160H400v160ZM180-400h160v-160H180v160Zm440 0h160v-160H620v160ZM180-180h160v-160H180v160Zm440 0h160v-160H620v160Z\"/>\n",
              "  </svg>\n",
              "    </button>\n",
              "\n",
              "  <style>\n",
              "    .colab-df-container {\n",
              "      display:flex;\n",
              "      gap: 12px;\n",
              "    }\n",
              "\n",
              "    .colab-df-convert {\n",
              "      background-color: #E8F0FE;\n",
              "      border: none;\n",
              "      border-radius: 50%;\n",
              "      cursor: pointer;\n",
              "      display: none;\n",
              "      fill: #1967D2;\n",
              "      height: 32px;\n",
              "      padding: 0 0 0 0;\n",
              "      width: 32px;\n",
              "    }\n",
              "\n",
              "    .colab-df-convert:hover {\n",
              "      background-color: #E2EBFA;\n",
              "      box-shadow: 0px 1px 2px rgba(60, 64, 67, 0.3), 0px 1px 3px 1px rgba(60, 64, 67, 0.15);\n",
              "      fill: #174EA6;\n",
              "    }\n",
              "\n",
              "    .colab-df-buttons div {\n",
              "      margin-bottom: 4px;\n",
              "    }\n",
              "\n",
              "    [theme=dark] .colab-df-convert {\n",
              "      background-color: #3B4455;\n",
              "      fill: #D2E3FC;\n",
              "    }\n",
              "\n",
              "    [theme=dark] .colab-df-convert:hover {\n",
              "      background-color: #434B5C;\n",
              "      box-shadow: 0px 1px 3px 1px rgba(0, 0, 0, 0.15);\n",
              "      filter: drop-shadow(0px 1px 2px rgba(0, 0, 0, 0.3));\n",
              "      fill: #FFFFFF;\n",
              "    }\n",
              "  </style>\n",
              "\n",
              "    <script>\n",
              "      const buttonEl =\n",
              "        document.querySelector('#df-b664a83e-1dd3-4799-9e27-3f19410e074b button.colab-df-convert');\n",
              "      buttonEl.style.display =\n",
              "        google.colab.kernel.accessAllowed ? 'block' : 'none';\n",
              "\n",
              "      async function convertToInteractive(key) {\n",
              "        const element = document.querySelector('#df-b664a83e-1dd3-4799-9e27-3f19410e074b');\n",
              "        const dataTable =\n",
              "          await google.colab.kernel.invokeFunction('convertToInteractive',\n",
              "                                                    [key], {});\n",
              "        if (!dataTable) return;\n",
              "\n",
              "        const docLinkHtml = 'Like what you see? Visit the ' +\n",
              "          '<a target=\"_blank\" href=https://colab.research.google.com/notebooks/data_table.ipynb>data table notebook</a>'\n",
              "          + ' to learn more about interactive tables.';\n",
              "        element.innerHTML = '';\n",
              "        dataTable['output_type'] = 'display_data';\n",
              "        await google.colab.output.renderOutput(dataTable, element);\n",
              "        const docLink = document.createElement('div');\n",
              "        docLink.innerHTML = docLinkHtml;\n",
              "        element.appendChild(docLink);\n",
              "      }\n",
              "    </script>\n",
              "  </div>\n",
              "\n",
              "\n",
              "<div id=\"df-d12ce2a4-3eb3-4ccd-99cd-641265bc10f1\">\n",
              "  <button class=\"colab-df-quickchart\" onclick=\"quickchart('df-d12ce2a4-3eb3-4ccd-99cd-641265bc10f1')\"\n",
              "            title=\"Suggest charts\"\n",
              "            style=\"display:none;\">\n",
              "\n",
              "<svg xmlns=\"http://www.w3.org/2000/svg\" height=\"24px\"viewBox=\"0 0 24 24\"\n",
              "     width=\"24px\">\n",
              "    <g>\n",
              "        <path d=\"M19 3H5c-1.1 0-2 .9-2 2v14c0 1.1.9 2 2 2h14c1.1 0 2-.9 2-2V5c0-1.1-.9-2-2-2zM9 17H7v-7h2v7zm4 0h-2V7h2v10zm4 0h-2v-4h2v4z\"/>\n",
              "    </g>\n",
              "</svg>\n",
              "  </button>\n",
              "\n",
              "<style>\n",
              "  .colab-df-quickchart {\n",
              "      --bg-color: #E8F0FE;\n",
              "      --fill-color: #1967D2;\n",
              "      --hover-bg-color: #E2EBFA;\n",
              "      --hover-fill-color: #174EA6;\n",
              "      --disabled-fill-color: #AAA;\n",
              "      --disabled-bg-color: #DDD;\n",
              "  }\n",
              "\n",
              "  [theme=dark] .colab-df-quickchart {\n",
              "      --bg-color: #3B4455;\n",
              "      --fill-color: #D2E3FC;\n",
              "      --hover-bg-color: #434B5C;\n",
              "      --hover-fill-color: #FFFFFF;\n",
              "      --disabled-bg-color: #3B4455;\n",
              "      --disabled-fill-color: #666;\n",
              "  }\n",
              "\n",
              "  .colab-df-quickchart {\n",
              "    background-color: var(--bg-color);\n",
              "    border: none;\n",
              "    border-radius: 50%;\n",
              "    cursor: pointer;\n",
              "    display: none;\n",
              "    fill: var(--fill-color);\n",
              "    height: 32px;\n",
              "    padding: 0;\n",
              "    width: 32px;\n",
              "  }\n",
              "\n",
              "  .colab-df-quickchart:hover {\n",
              "    background-color: var(--hover-bg-color);\n",
              "    box-shadow: 0 1px 2px rgba(60, 64, 67, 0.3), 0 1px 3px 1px rgba(60, 64, 67, 0.15);\n",
              "    fill: var(--button-hover-fill-color);\n",
              "  }\n",
              "\n",
              "  .colab-df-quickchart-complete:disabled,\n",
              "  .colab-df-quickchart-complete:disabled:hover {\n",
              "    background-color: var(--disabled-bg-color);\n",
              "    fill: var(--disabled-fill-color);\n",
              "    box-shadow: none;\n",
              "  }\n",
              "\n",
              "  .colab-df-spinner {\n",
              "    border: 2px solid var(--fill-color);\n",
              "    border-color: transparent;\n",
              "    border-bottom-color: var(--fill-color);\n",
              "    animation:\n",
              "      spin 1s steps(1) infinite;\n",
              "  }\n",
              "\n",
              "  @keyframes spin {\n",
              "    0% {\n",
              "      border-color: transparent;\n",
              "      border-bottom-color: var(--fill-color);\n",
              "      border-left-color: var(--fill-color);\n",
              "    }\n",
              "    20% {\n",
              "      border-color: transparent;\n",
              "      border-left-color: var(--fill-color);\n",
              "      border-top-color: var(--fill-color);\n",
              "    }\n",
              "    30% {\n",
              "      border-color: transparent;\n",
              "      border-left-color: var(--fill-color);\n",
              "      border-top-color: var(--fill-color);\n",
              "      border-right-color: var(--fill-color);\n",
              "    }\n",
              "    40% {\n",
              "      border-color: transparent;\n",
              "      border-right-color: var(--fill-color);\n",
              "      border-top-color: var(--fill-color);\n",
              "    }\n",
              "    60% {\n",
              "      border-color: transparent;\n",
              "      border-right-color: var(--fill-color);\n",
              "    }\n",
              "    80% {\n",
              "      border-color: transparent;\n",
              "      border-right-color: var(--fill-color);\n",
              "      border-bottom-color: var(--fill-color);\n",
              "    }\n",
              "    90% {\n",
              "      border-color: transparent;\n",
              "      border-bottom-color: var(--fill-color);\n",
              "    }\n",
              "  }\n",
              "</style>\n",
              "\n",
              "  <script>\n",
              "    async function quickchart(key) {\n",
              "      const quickchartButtonEl =\n",
              "        document.querySelector('#' + key + ' button');\n",
              "      quickchartButtonEl.disabled = true;  // To prevent multiple clicks.\n",
              "      quickchartButtonEl.classList.add('colab-df-spinner');\n",
              "      try {\n",
              "        const charts = await google.colab.kernel.invokeFunction(\n",
              "            'suggestCharts', [key], {});\n",
              "      } catch (error) {\n",
              "        console.error('Error during call to suggestCharts:', error);\n",
              "      }\n",
              "      quickchartButtonEl.classList.remove('colab-df-spinner');\n",
              "      quickchartButtonEl.classList.add('colab-df-quickchart-complete');\n",
              "    }\n",
              "    (() => {\n",
              "      let quickchartButtonEl =\n",
              "        document.querySelector('#df-d12ce2a4-3eb3-4ccd-99cd-641265bc10f1 button');\n",
              "      quickchartButtonEl.style.display =\n",
              "        google.colab.kernel.accessAllowed ? 'block' : 'none';\n",
              "    })();\n",
              "  </script>\n",
              "</div>\n",
              "    </div>\n",
              "  </div>\n"
            ],
            "application/vnd.google.colaboratory.intrinsic+json": {
              "type": "dataframe",
              "variable_name": "sd",
              "summary": "{\n  \"name\": \"sd\",\n  \"rows\": 156,\n  \"fields\": [\n    {\n      \"column\": \"date\",\n      \"properties\": {\n        \"dtype\": \"date\",\n        \"min\": \"2022-01-09 00:00:00\",\n        \"max\": \"2024-12-30 00:00:00\",\n        \"num_unique_values\": 156,\n        \"samples\": [\n          \"2023-11-12 00:00:00\",\n          \"2023-05-07 00:00:00\",\n          \"2023-08-06 00:00:00\"\n        ],\n        \"semantic_type\": \"\",\n        \"description\": \"\"\n      }\n    },\n    {\n      \"column\": \"total_services\",\n      \"properties\": {\n        \"dtype\": \"number\",\n        \"std\": 5093.06495391258,\n        \"min\": 1.0,\n        \"max\": 13293.0,\n        \"num_unique_values\": 104,\n        \"samples\": [\n          8915.0,\n          11846.0,\n          12589.0\n        ],\n        \"semantic_type\": \"\",\n        \"description\": \"\"\n      }\n    },\n    {\n      \"column\": \"total_payments\",\n      \"properties\": {\n        \"dtype\": \"number\",\n        \"std\": 12023653.528100071,\n        \"min\": 1.0,\n        \"max\": 33622215.79,\n        \"num_unique_values\": 105,\n        \"samples\": [\n          19762486.0,\n          28973962.35,\n          29389079.1\n        ],\n        \"semantic_type\": \"\",\n        \"description\": \"\"\n      }\n    },\n    {\n      \"column\": \"average_payment\",\n      \"properties\": {\n        \"dtype\": \"number\",\n        \"std\": 1102.1209478526403,\n        \"min\": 1.0,\n        \"max\": 2610.8719381701326,\n        \"num_unique_values\": 105,\n        \"samples\": [\n          2119.9010357120383,\n          2289.4076526183408,\n          2362.941902201376\n        ],\n        \"semantic_type\": \"\",\n        \"description\": \"\"\n      }\n    },\n    {\n      \"column\": \"unique_service_id\",\n      \"properties\": {\n        \"dtype\": \"number\",\n        \"std\": 5.7044117304971325,\n        \"min\": 1.0,\n        \"max\": 28.0,\n        \"num_unique_values\": 58,\n        \"samples\": [\n          1.0,\n          1.5714285714285714,\n          4.0\n        ],\n        \"semantic_type\": \"\",\n        \"description\": \"\"\n      }\n    },\n    {\n      \"column\": \"unique_account_id\",\n      \"properties\": {\n        \"dtype\": \"number\",\n        \"std\": 5.7044117304971325,\n        \"min\": 1.0,\n        \"max\": 28.0,\n        \"num_unique_values\": 58,\n        \"samples\": [\n          1.0,\n          1.5714285714285714,\n          4.0\n        ],\n        \"semantic_type\": \"\",\n        \"description\": \"\"\n      }\n    },\n    {\n      \"column\": \"ma_12\",\n      \"properties\": {\n        \"dtype\": \"number\",\n        \"std\": 10815728.842791919,\n        \"min\": 1.0,\n        \"max\": 29250192.67538462,\n        \"num_unique_values\": 117,\n        \"samples\": [\n          22847322.103846155,\n          17711157.79,\n          23521612.79538462\n        ],\n        \"semantic_type\": \"\",\n        \"description\": \"\"\n      }\n    },\n    {\n      \"column\": \"ma_24\",\n      \"properties\": {\n        \"dtype\": \"number\",\n        \"std\": 9706566.387154039,\n        \"min\": 1.0,\n        \"max\": 27612237.3348,\n        \"num_unique_values\": 129,\n        \"samples\": [\n          23187715.2068,\n          22057635.5204,\n          21871258.7565\n        ],\n        \"semantic_type\": \"\",\n        \"description\": \"\"\n      }\n    },\n    {\n      \"column\": \"ma_52\",\n      \"properties\": {\n        \"dtype\": \"number\",\n        \"std\": 6432705.012627411,\n        \"min\": 467903.45849056606,\n        \"max\": 26277463.10566038,\n        \"num_unique_values\": 156,\n        \"samples\": [\n          25802907.66735849,\n          23870849.04924528,\n          24545079.85188679\n        ],\n        \"semantic_type\": \"\",\n        \"description\": \"\"\n      }\n    },\n    {\n      \"column\": \"total_services_last_year\",\n      \"properties\": {\n        \"dtype\": \"number\",\n        \"std\": 113251.07351231783,\n        \"min\": 1.0,\n        \"max\": 285674.0,\n        \"num_unique_values\": 130,\n        \"samples\": [\n          267852.0,\n          267221.0,\n          193534.0\n        ],\n        \"semantic_type\": \"\",\n        \"description\": \"\"\n      }\n    },\n    {\n      \"column\": \"mean_payments_last_year\",\n      \"properties\": {\n        \"dtype\": \"number\",\n        \"std\": 24572.554938995447,\n        \"min\": 1.0,\n        \"max\": 64770.152885246964,\n        \"num_unique_values\": 130,\n        \"samples\": [\n          57897.015024575594,\n          56026.1221932754,\n          44805.800373685255\n        ],\n        \"semantic_type\": \"\",\n        \"description\": \"\"\n      }\n    },\n    {\n      \"column\": \"unique_patients_last_year\",\n      \"properties\": {\n        \"dtype\": \"number\",\n        \"std\": 3.0976072458104076,\n        \"min\": 0.34134615384615385,\n        \"max\": 9.736263736263735,\n        \"num_unique_values\": 124,\n        \"samples\": [\n          4.022556390977444,\n          8.774725274725274,\n          5.934065934065933\n        ],\n        \"semantic_type\": \"\",\n        \"description\": \"\"\n      }\n    }\n  ]\n}"
            }
          },
          "metadata": {},
          "execution_count": 13
        }
      ]
    },
    {
      "cell_type": "code",
      "source": [
        "plt.figure(figsize=(14, 7))\n",
        "# sd = sd.sort_values('date')\n",
        "for i in sd.drop(columns=['total_services', 'average_payment', 'unique_service_id', 'unique_account_id']).columns:\n",
        "  plt.plot(sd.sort_index()[f'{i}'], label=f\"{i}\")\n",
        "\n",
        "\n",
        "plt.title(\"Признаки с скользящим средним\", fontsize=18)\n",
        "plt.xlabel(\"Время\", fontsize=18)\n",
        "plt.ylabel(\"Сумма выплат\", fontsize=18)\n",
        "plt.legend()\n",
        "plt.xlim(pd.to_datetime('2022-01-01'), pd.to_datetime('2024-01-01'))\n",
        "plt.grid(True)\n",
        "plt.savefig('dg.png')"
      ],
      "metadata": {
        "colab": {
          "base_uri": "https://localhost:8080/",
          "height": 610
        },
        "id": "LTJum9obtgMz",
        "outputId": "46c3e3d5-6e08-4ff9-d46c-33bbfe94c69e"
      },
      "execution_count": 81,
      "outputs": [
        {
          "output_type": "display_data",
          "data": {
            "text/plain": [
              "<Figure size 1400x700 with 1 Axes>"
            ],
            "image/png": "[encoded data removed]"
          },
          "metadata": {}
        }
      ]
    },
    {
      "cell_type": "markdown",
      "source": [
        "#Предсказание"
      ],
      "metadata": {
        "id": "PdgxaIRW14ef"
      }
    },
    {
      "cell_type": "markdown",
      "source": [
        "###Сначала на просто временном ряду, без признаков"
      ],
      "metadata": {
        "id": "1S5b8VTckZld"
      }
    },
    {
      "cell_type": "code",
      "source": [
        "dataset = sd.drop(columns=['average_payment', 'total_services','unique_service_id','unique_account_id' ]).copy()"
      ],
      "metadata": {
        "id": "fHzzkCFW2bWE"
      },
      "execution_count": 18,
      "outputs": []
    },
    {
      "cell_type": "code",
      "source": [
        "train_start = datetime.datetime(2022, 1, 1)\n",
        "train_end = datetime.datetime(2022, 12, 31)\n",
        "\n",
        "val_start = datetime.datetime(2023, 1, 1)\n",
        "val_end = datetime.datetime(2023, 6, 1)\n",
        "\n",
        "test_start = datetime.datetime(2023, 6, 2)\n",
        "test_end = datetime.datetime(2024, 12, 30)\n",
        "\n",
        "train_data = dataset.query(\"(`date` >= @train_start) & (`date` <= @train_end)\")\n",
        "val_data = dataset.query(\"(`date` >= @val_start) & (`date` <= @val_end)\")\n",
        "test_data = dataset.query(\"(`date` >= @test_start) & (`date` <= @test_end)\")\n",
        "\n",
        "train_data = train_data['total_payments']\n",
        "val_data = val_data['total_payments']\n",
        "test_data = test_data['total_payments']"
      ],
      "metadata": {
        "id": "skx3wSH4tgKk"
      },
      "execution_count": 19,
      "outputs": []
    },
    {
      "cell_type": "code",
      "source": [
        "stepwise_model = auto_arima(\n",
        "    y=train_data,\n",
        "    # X=train_data.drop(columns=[\"total_payments\"]),\n",
        "    start_p=1,\n",
        "    start_q=1,\n",
        "    max_p=5,\n",
        "    max_q=5,\n",
        "    m=18,\n",
        "    start_P=0,\n",
        "    seasonal=True,\n",
        "    d=None,\n",
        "    D=1,\n",
        "    trace=True,\n",
        "    error_action=\"ignore\",\n",
        "    suppress_warnings=True,\n",
        "    stepwise=True,\n",
        "    maxiter=50,  # default 50\n",
        ")"
      ],
      "metadata": {
        "colab": {
          "base_uri": "https://localhost:8080/"
        },
        "id": "sUExDnhjtgH4",
        "outputId": "117fdc57-3852-495e-9a86-8cd1288e530b"
      },
      "execution_count": 20,
      "outputs": [
        {
          "output_type": "stream",
          "name": "stderr",
          "text": [
            "/usr/local/lib/python3.11/dist-packages/sklearn/utils/deprecation.py:151: FutureWarning: 'force_all_finite' was renamed to 'ensure_all_finite' in 1.6 and will be removed in 1.8.\n",
            "  warnings.warn(\n",
            "/usr/local/lib/python3.11/dist-packages/sklearn/utils/deprecation.py:151: FutureWarning: 'force_all_finite' was renamed to 'ensure_all_finite' in 1.6 and will be removed in 1.8.\n",
            "  warnings.warn(\n",
            "/usr/local/lib/python3.11/dist-packages/sklearn/utils/deprecation.py:151: FutureWarning: 'force_all_finite' was renamed to 'ensure_all_finite' in 1.6 and will be removed in 1.8.\n",
            "  warnings.warn(\n",
            "/usr/local/lib/python3.11/dist-packages/sklearn/utils/deprecation.py:151: FutureWarning: 'force_all_finite' was renamed to 'ensure_all_finite' in 1.6 and will be removed in 1.8.\n",
            "  warnings.warn(\n",
            "/usr/local/lib/python3.11/dist-packages/sklearn/utils/deprecation.py:151: FutureWarning: 'force_all_finite' was renamed to 'ensure_all_finite' in 1.6 and will be removed in 1.8.\n",
            "  warnings.warn(\n",
            "/usr/local/lib/python3.11/dist-packages/sklearn/utils/deprecation.py:151: FutureWarning: 'force_all_finite' was renamed to 'ensure_all_finite' in 1.6 and will be removed in 1.8.\n",
            "  warnings.warn(\n"
          ]
        },
        {
          "output_type": "stream",
          "name": "stdout",
          "text": [
            "Performing stepwise search to minimize aic\n",
            " ARIMA(1,0,1)(0,1,1)[18] intercept   : AIC=1113.057, Time=1.35 sec\n",
            " ARIMA(0,0,0)(0,1,0)[18] intercept   : AIC=1142.035, Time=0.05 sec\n"
          ]
        },
        {
          "output_type": "stream",
          "name": "stderr",
          "text": [
            "/usr/local/lib/python3.11/dist-packages/sklearn/utils/deprecation.py:151: FutureWarning: 'force_all_finite' was renamed to 'ensure_all_finite' in 1.6 and will be removed in 1.8.\n",
            "  warnings.warn(\n",
            "/usr/local/lib/python3.11/dist-packages/sklearn/utils/deprecation.py:151: FutureWarning: 'force_all_finite' was renamed to 'ensure_all_finite' in 1.6 and will be removed in 1.8.\n",
            "  warnings.warn(\n"
          ]
        },
        {
          "output_type": "stream",
          "name": "stdout",
          "text": [
            " ARIMA(1,0,0)(1,1,0)[18] intercept   : AIC=1113.587, Time=0.48 sec\n"
          ]
        },
        {
          "output_type": "stream",
          "name": "stderr",
          "text": [
            "/usr/local/lib/python3.11/dist-packages/sklearn/utils/deprecation.py:151: FutureWarning: 'force_all_finite' was renamed to 'ensure_all_finite' in 1.6 and will be removed in 1.8.\n",
            "  warnings.warn(\n"
          ]
        },
        {
          "output_type": "stream",
          "name": "stdout",
          "text": [
            " ARIMA(0,0,1)(0,1,1)[18] intercept   : AIC=1119.260, Time=1.26 sec\n",
            " ARIMA(0,0,0)(0,1,0)[18]             : AIC=1145.772, Time=0.02 sec\n",
            " ARIMA(1,0,1)(0,1,0)[18] intercept   : AIC=1113.509, Time=0.09 sec\n"
          ]
        },
        {
          "output_type": "stream",
          "name": "stderr",
          "text": [
            "/usr/local/lib/python3.11/dist-packages/sklearn/utils/deprecation.py:151: FutureWarning: 'force_all_finite' was renamed to 'ensure_all_finite' in 1.6 and will be removed in 1.8.\n",
            "  warnings.warn(\n",
            "/usr/local/lib/python3.11/dist-packages/sklearn/utils/deprecation.py:151: FutureWarning: 'force_all_finite' was renamed to 'ensure_all_finite' in 1.6 and will be removed in 1.8.\n",
            "  warnings.warn(\n",
            "/usr/local/lib/python3.11/dist-packages/sklearn/utils/deprecation.py:151: FutureWarning: 'force_all_finite' was renamed to 'ensure_all_finite' in 1.6 and will be removed in 1.8.\n",
            "  warnings.warn(\n"
          ]
        },
        {
          "output_type": "stream",
          "name": "stdout",
          "text": [
            " ARIMA(1,0,1)(1,1,1)[18] intercept   : AIC=1114.740, Time=0.57 sec\n"
          ]
        },
        {
          "output_type": "stream",
          "name": "stderr",
          "text": [
            "/usr/local/lib/python3.11/dist-packages/sklearn/utils/deprecation.py:151: FutureWarning: 'force_all_finite' was renamed to 'ensure_all_finite' in 1.6 and will be removed in 1.8.\n",
            "  warnings.warn(\n"
          ]
        },
        {
          "output_type": "stream",
          "name": "stdout",
          "text": [
            " ARIMA(1,0,1)(0,1,2)[18] intercept   : AIC=1114.717, Time=0.67 sec\n"
          ]
        },
        {
          "output_type": "stream",
          "name": "stderr",
          "text": [
            "/usr/local/lib/python3.11/dist-packages/sklearn/utils/deprecation.py:151: FutureWarning: 'force_all_finite' was renamed to 'ensure_all_finite' in 1.6 and will be removed in 1.8.\n",
            "  warnings.warn(\n"
          ]
        },
        {
          "output_type": "stream",
          "name": "stdout",
          "text": [
            " ARIMA(1,0,1)(1,1,0)[18] intercept   : AIC=1112.900, Time=0.25 sec\n"
          ]
        },
        {
          "output_type": "stream",
          "name": "stderr",
          "text": [
            "/usr/local/lib/python3.11/dist-packages/sklearn/utils/deprecation.py:151: FutureWarning: 'force_all_finite' was renamed to 'ensure_all_finite' in 1.6 and will be removed in 1.8.\n",
            "  warnings.warn(\n"
          ]
        },
        {
          "output_type": "stream",
          "name": "stdout",
          "text": [
            " ARIMA(1,0,1)(2,1,0)[18] intercept   : AIC=1114.717, Time=0.77 sec\n"
          ]
        },
        {
          "output_type": "stream",
          "name": "stderr",
          "text": [
            "/usr/local/lib/python3.11/dist-packages/sklearn/utils/deprecation.py:151: FutureWarning: 'force_all_finite' was renamed to 'ensure_all_finite' in 1.6 and will be removed in 1.8.\n",
            "  warnings.warn(\n"
          ]
        },
        {
          "output_type": "stream",
          "name": "stdout",
          "text": [
            " ARIMA(1,0,1)(2,1,1)[18] intercept   : AIC=inf, Time=2.87 sec\n"
          ]
        },
        {
          "output_type": "stream",
          "name": "stderr",
          "text": [
            "/usr/local/lib/python3.11/dist-packages/sklearn/utils/deprecation.py:151: FutureWarning: 'force_all_finite' was renamed to 'ensure_all_finite' in 1.6 and will be removed in 1.8.\n",
            "  warnings.warn(\n"
          ]
        },
        {
          "output_type": "stream",
          "name": "stdout",
          "text": [
            " ARIMA(0,0,1)(1,1,0)[18] intercept   : AIC=1119.077, Time=0.46 sec\n"
          ]
        },
        {
          "output_type": "stream",
          "name": "stderr",
          "text": [
            "/usr/local/lib/python3.11/dist-packages/sklearn/utils/deprecation.py:151: FutureWarning: 'force_all_finite' was renamed to 'ensure_all_finite' in 1.6 and will be removed in 1.8.\n",
            "  warnings.warn(\n"
          ]
        },
        {
          "output_type": "stream",
          "name": "stdout",
          "text": [
            " ARIMA(2,0,1)(1,1,0)[18] intercept   : AIC=1114.791, Time=0.47 sec\n"
          ]
        },
        {
          "output_type": "stream",
          "name": "stderr",
          "text": [
            "/usr/local/lib/python3.11/dist-packages/sklearn/utils/deprecation.py:151: FutureWarning: 'force_all_finite' was renamed to 'ensure_all_finite' in 1.6 and will be removed in 1.8.\n",
            "  warnings.warn(\n"
          ]
        },
        {
          "output_type": "stream",
          "name": "stdout",
          "text": [
            " ARIMA(1,0,2)(1,1,0)[18] intercept   : AIC=1110.588, Time=0.67 sec\n",
            " ARIMA(1,0,2)(0,1,0)[18] intercept   : AIC=1115.401, Time=0.13 sec\n"
          ]
        },
        {
          "output_type": "stream",
          "name": "stderr",
          "text": [
            "/usr/local/lib/python3.11/dist-packages/sklearn/utils/deprecation.py:151: FutureWarning: 'force_all_finite' was renamed to 'ensure_all_finite' in 1.6 and will be removed in 1.8.\n",
            "  warnings.warn(\n",
            "/usr/local/lib/python3.11/dist-packages/sklearn/utils/deprecation.py:151: FutureWarning: 'force_all_finite' was renamed to 'ensure_all_finite' in 1.6 and will be removed in 1.8.\n",
            "  warnings.warn(\n"
          ]
        },
        {
          "output_type": "stream",
          "name": "stdout",
          "text": [
            " ARIMA(1,0,2)(2,1,0)[18] intercept   : AIC=1110.233, Time=1.94 sec\n"
          ]
        },
        {
          "output_type": "stream",
          "name": "stderr",
          "text": [
            "/usr/local/lib/python3.11/dist-packages/sklearn/utils/deprecation.py:151: FutureWarning: 'force_all_finite' was renamed to 'ensure_all_finite' in 1.6 and will be removed in 1.8.\n",
            "  warnings.warn(\n"
          ]
        },
        {
          "output_type": "stream",
          "name": "stdout",
          "text": [
            " ARIMA(1,0,2)(2,1,1)[18] intercept   : AIC=1112.220, Time=5.11 sec\n"
          ]
        },
        {
          "output_type": "stream",
          "name": "stderr",
          "text": [
            "/usr/local/lib/python3.11/dist-packages/sklearn/utils/deprecation.py:151: FutureWarning: 'force_all_finite' was renamed to 'ensure_all_finite' in 1.6 and will be removed in 1.8.\n",
            "  warnings.warn(\n"
          ]
        },
        {
          "output_type": "stream",
          "name": "stdout",
          "text": [
            " ARIMA(1,0,2)(1,1,1)[18] intercept   : AIC=1110.571, Time=1.20 sec\n"
          ]
        },
        {
          "output_type": "stream",
          "name": "stderr",
          "text": [
            "/usr/local/lib/python3.11/dist-packages/sklearn/utils/deprecation.py:151: FutureWarning: 'force_all_finite' was renamed to 'ensure_all_finite' in 1.6 and will be removed in 1.8.\n",
            "  warnings.warn(\n"
          ]
        },
        {
          "output_type": "stream",
          "name": "stdout",
          "text": [
            " ARIMA(0,0,2)(2,1,0)[18] intercept   : AIC=1116.188, Time=0.73 sec\n"
          ]
        },
        {
          "output_type": "stream",
          "name": "stderr",
          "text": [
            "/usr/local/lib/python3.11/dist-packages/sklearn/utils/deprecation.py:151: FutureWarning: 'force_all_finite' was renamed to 'ensure_all_finite' in 1.6 and will be removed in 1.8.\n",
            "  warnings.warn(\n"
          ]
        },
        {
          "output_type": "stream",
          "name": "stdout",
          "text": [
            " ARIMA(2,0,2)(2,1,0)[18] intercept   : AIC=1112.117, Time=2.68 sec\n"
          ]
        },
        {
          "output_type": "stream",
          "name": "stderr",
          "text": [
            "/usr/local/lib/python3.11/dist-packages/sklearn/utils/deprecation.py:151: FutureWarning: 'force_all_finite' was renamed to 'ensure_all_finite' in 1.6 and will be removed in 1.8.\n",
            "  warnings.warn(\n"
          ]
        },
        {
          "output_type": "stream",
          "name": "stdout",
          "text": [
            " ARIMA(1,0,3)(2,1,0)[18] intercept   : AIC=1113.494, Time=2.52 sec\n"
          ]
        },
        {
          "output_type": "stream",
          "name": "stderr",
          "text": [
            "/usr/local/lib/python3.11/dist-packages/sklearn/utils/deprecation.py:151: FutureWarning: 'force_all_finite' was renamed to 'ensure_all_finite' in 1.6 and will be removed in 1.8.\n",
            "  warnings.warn(\n"
          ]
        },
        {
          "output_type": "stream",
          "name": "stdout",
          "text": [
            " ARIMA(0,0,1)(2,1,0)[18] intercept   : AIC=1119.060, Time=0.99 sec\n"
          ]
        },
        {
          "output_type": "stream",
          "name": "stderr",
          "text": [
            "/usr/local/lib/python3.11/dist-packages/sklearn/utils/deprecation.py:151: FutureWarning: 'force_all_finite' was renamed to 'ensure_all_finite' in 1.6 and will be removed in 1.8.\n",
            "  warnings.warn(\n"
          ]
        },
        {
          "output_type": "stream",
          "name": "stdout",
          "text": [
            " ARIMA(0,0,3)(2,1,0)[18] intercept   : AIC=1120.646, Time=0.91 sec\n"
          ]
        },
        {
          "output_type": "stream",
          "name": "stderr",
          "text": [
            "/usr/local/lib/python3.11/dist-packages/sklearn/utils/deprecation.py:151: FutureWarning: 'force_all_finite' was renamed to 'ensure_all_finite' in 1.6 and will be removed in 1.8.\n",
            "  warnings.warn(\n"
          ]
        },
        {
          "output_type": "stream",
          "name": "stdout",
          "text": [
            " ARIMA(2,0,1)(2,1,0)[18] intercept   : AIC=1116.578, Time=3.17 sec\n"
          ]
        },
        {
          "output_type": "stream",
          "name": "stderr",
          "text": [
            "/usr/local/lib/python3.11/dist-packages/sklearn/utils/deprecation.py:151: FutureWarning: 'force_all_finite' was renamed to 'ensure_all_finite' in 1.6 and will be removed in 1.8.\n",
            "  warnings.warn(\n"
          ]
        },
        {
          "output_type": "stream",
          "name": "stdout",
          "text": [
            " ARIMA(2,0,3)(2,1,0)[18] intercept   : AIC=1113.153, Time=5.12 sec\n"
          ]
        },
        {
          "output_type": "stream",
          "name": "stderr",
          "text": [
            "/usr/local/lib/python3.11/dist-packages/sklearn/utils/deprecation.py:151: FutureWarning: 'force_all_finite' was renamed to 'ensure_all_finite' in 1.6 and will be removed in 1.8.\n",
            "  warnings.warn(\n"
          ]
        },
        {
          "output_type": "stream",
          "name": "stdout",
          "text": [
            " ARIMA(1,0,2)(2,1,0)[18]             : AIC=1108.263, Time=1.92 sec\n"
          ]
        },
        {
          "output_type": "stream",
          "name": "stderr",
          "text": [
            "/usr/local/lib/python3.11/dist-packages/sklearn/utils/deprecation.py:151: FutureWarning: 'force_all_finite' was renamed to 'ensure_all_finite' in 1.6 and will be removed in 1.8.\n",
            "  warnings.warn(\n"
          ]
        },
        {
          "output_type": "stream",
          "name": "stdout",
          "text": [
            " ARIMA(1,0,2)(1,1,0)[18]             : AIC=1108.548, Time=0.59 sec\n"
          ]
        },
        {
          "output_type": "stream",
          "name": "stderr",
          "text": [
            "/usr/local/lib/python3.11/dist-packages/sklearn/utils/deprecation.py:151: FutureWarning: 'force_all_finite' was renamed to 'ensure_all_finite' in 1.6 and will be removed in 1.8.\n",
            "  warnings.warn(\n"
          ]
        },
        {
          "output_type": "stream",
          "name": "stdout",
          "text": [
            " ARIMA(1,0,2)(2,1,1)[18]             : AIC=1110.256, Time=2.60 sec\n"
          ]
        },
        {
          "output_type": "stream",
          "name": "stderr",
          "text": [
            "/usr/local/lib/python3.11/dist-packages/sklearn/utils/deprecation.py:151: FutureWarning: 'force_all_finite' was renamed to 'ensure_all_finite' in 1.6 and will be removed in 1.8.\n",
            "  warnings.warn(\n"
          ]
        },
        {
          "output_type": "stream",
          "name": "stdout",
          "text": [
            " ARIMA(1,0,2)(1,1,1)[18]             : AIC=1108.620, Time=2.86 sec\n"
          ]
        },
        {
          "output_type": "stream",
          "name": "stderr",
          "text": [
            "/usr/local/lib/python3.11/dist-packages/sklearn/utils/deprecation.py:151: FutureWarning: 'force_all_finite' was renamed to 'ensure_all_finite' in 1.6 and will be removed in 1.8.\n",
            "  warnings.warn(\n"
          ]
        },
        {
          "output_type": "stream",
          "name": "stdout",
          "text": [
            " ARIMA(0,0,2)(2,1,0)[18]             : AIC=1114.316, Time=1.12 sec\n"
          ]
        },
        {
          "output_type": "stream",
          "name": "stderr",
          "text": [
            "/usr/local/lib/python3.11/dist-packages/sklearn/utils/deprecation.py:151: FutureWarning: 'force_all_finite' was renamed to 'ensure_all_finite' in 1.6 and will be removed in 1.8.\n",
            "  warnings.warn(\n"
          ]
        },
        {
          "output_type": "stream",
          "name": "stdout",
          "text": [
            " ARIMA(1,0,1)(2,1,0)[18]             : AIC=1112.847, Time=0.70 sec\n"
          ]
        },
        {
          "output_type": "stream",
          "name": "stderr",
          "text": [
            "/usr/local/lib/python3.11/dist-packages/sklearn/utils/deprecation.py:151: FutureWarning: 'force_all_finite' was renamed to 'ensure_all_finite' in 1.6 and will be removed in 1.8.\n",
            "  warnings.warn(\n"
          ]
        },
        {
          "output_type": "stream",
          "name": "stdout",
          "text": [
            " ARIMA(2,0,2)(2,1,0)[18]             : AIC=1110.147, Time=2.58 sec\n"
          ]
        },
        {
          "output_type": "stream",
          "name": "stderr",
          "text": [
            "/usr/local/lib/python3.11/dist-packages/sklearn/utils/deprecation.py:151: FutureWarning: 'force_all_finite' was renamed to 'ensure_all_finite' in 1.6 and will be removed in 1.8.\n",
            "  warnings.warn(\n"
          ]
        },
        {
          "output_type": "stream",
          "name": "stdout",
          "text": [
            " ARIMA(1,0,3)(2,1,0)[18]             : AIC=1111.621, Time=2.40 sec\n"
          ]
        },
        {
          "output_type": "stream",
          "name": "stderr",
          "text": [
            "/usr/local/lib/python3.11/dist-packages/sklearn/utils/deprecation.py:151: FutureWarning: 'force_all_finite' was renamed to 'ensure_all_finite' in 1.6 and will be removed in 1.8.\n",
            "  warnings.warn(\n"
          ]
        },
        {
          "output_type": "stream",
          "name": "stdout",
          "text": [
            " ARIMA(0,0,1)(2,1,0)[18]             : AIC=1117.526, Time=1.06 sec\n"
          ]
        },
        {
          "output_type": "stream",
          "name": "stderr",
          "text": [
            "/usr/local/lib/python3.11/dist-packages/sklearn/utils/deprecation.py:151: FutureWarning: 'force_all_finite' was renamed to 'ensure_all_finite' in 1.6 and will be removed in 1.8.\n",
            "  warnings.warn(\n"
          ]
        },
        {
          "output_type": "stream",
          "name": "stdout",
          "text": [
            " ARIMA(0,0,3)(2,1,0)[18]             : AIC=1118.814, Time=0.81 sec\n"
          ]
        },
        {
          "output_type": "stream",
          "name": "stderr",
          "text": [
            "/usr/local/lib/python3.11/dist-packages/sklearn/utils/deprecation.py:151: FutureWarning: 'force_all_finite' was renamed to 'ensure_all_finite' in 1.6 and will be removed in 1.8.\n",
            "  warnings.warn(\n"
          ]
        },
        {
          "output_type": "stream",
          "name": "stdout",
          "text": [
            " ARIMA(2,0,1)(2,1,0)[18]             : AIC=1114.443, Time=1.20 sec\n"
          ]
        },
        {
          "output_type": "stream",
          "name": "stderr",
          "text": [
            "/usr/local/lib/python3.11/dist-packages/sklearn/utils/deprecation.py:151: FutureWarning: 'force_all_finite' was renamed to 'ensure_all_finite' in 1.6 and will be removed in 1.8.\n",
            "  warnings.warn(\n"
          ]
        },
        {
          "output_type": "stream",
          "name": "stdout",
          "text": [
            " ARIMA(2,0,3)(2,1,0)[18]             : AIC=1111.295, Time=6.17 sec\n",
            "\n",
            "Best model:  ARIMA(1,0,2)(2,1,0)[18]          \n",
            "Total fit time: 58.569 seconds\n"
          ]
        }
      ]
    },
    {
      "cell_type": "code",
      "source": [
        "start_data = train_data.index[-1] + pd.DateOffset(days=1)# Your code here\n",
        "future_forecast_val = stepwise_model.predict(X = val_data.drop(columns=[\"total_payments\"]), start=start_data, n_periods=21)\n",
        "\n",
        "start_data = val_data.index[-1] + pd.DateOffset(days=1)# Your code here\n",
        "future_forecast_test = stepwise_model.predict(X = test_data.drop(columns=[\"total_payments\"]), start=start_data, n_periods=83)"
      ],
      "metadata": {
        "colab": {
          "base_uri": "https://localhost:8080/"
        },
        "id": "DciQkCfFtgFK",
        "outputId": "0838724f-084f-4da8-a1a6-0749700fc38e"
      },
      "execution_count": 21,
      "outputs": [
        {
          "output_type": "stream",
          "name": "stderr",
          "text": [
            "/usr/local/lib/python3.11/dist-packages/statsmodels/tsa/base/tsa_model.py:837: ValueWarning: No supported index is available. Prediction results will be given with an integer index beginning at `start`.\n",
            "  return get_prediction_index(\n",
            "/usr/local/lib/python3.11/dist-packages/statsmodels/tsa/base/tsa_model.py:837: FutureWarning: No supported index is available. In the next version, calling this method in a model without a supported index will result in an exception.\n",
            "  return get_prediction_index(\n",
            "/usr/local/lib/python3.11/dist-packages/sklearn/utils/deprecation.py:151: FutureWarning: 'force_all_finite' was renamed to 'ensure_all_finite' in 1.6 and will be removed in 1.8.\n",
            "  warnings.warn(\n",
            "/usr/local/lib/python3.11/dist-packages/statsmodels/tsa/base/tsa_model.py:837: ValueWarning: No supported index is available. Prediction results will be given with an integer index beginning at `start`.\n",
            "  return get_prediction_index(\n",
            "/usr/local/lib/python3.11/dist-packages/statsmodels/tsa/base/tsa_model.py:837: FutureWarning: No supported index is available. In the next version, calling this method in a model without a supported index will result in an exception.\n",
            "  return get_prediction_index(\n",
            "/usr/local/lib/python3.11/dist-packages/sklearn/utils/deprecation.py:151: FutureWarning: 'force_all_finite' was renamed to 'ensure_all_finite' in 1.6 and will be removed in 1.8.\n",
            "  warnings.warn(\n"
          ]
        }
      ]
    },
    {
      "cell_type": "code",
      "source": [
        "future_forecast_val = future_forecast_val.rename(index=dict(zip(future_forecast_val.index.tolist(),val_data.index.tolist())))\n",
        "future_forecast_test = future_forecast_test.rename(index=dict(zip(future_forecast_test.index.tolist(),test_data.index.tolist())))"
      ],
      "metadata": {
        "id": "A3-zfsl23ACH"
      },
      "execution_count": 22,
      "outputs": []
    },
    {
      "cell_type": "code",
      "source": [
        "plt.figure(figsize=(10, 4))\n",
        "plt.plot(dataset['total_payments'][:104], label='real')\n",
        "plt.plot(train_data, label=\"Train\")\n",
        "plt.plot(val_data, label=\"Val\")\n",
        "plt.plot(test_data[:30], label=\"Test\")\n",
        "plt.plot(future_forecast_val, label=\"Predicted Val\")\n",
        "plt.plot(future_forecast_test.sort_index(), label=\"Predicted Test\")\n",
        "\n",
        "\n",
        "plt.title(\"ARIMA with optimal parameters\")\n",
        "plt.xlabel(\"Time\")\n",
        "plt.ylabel(\"Price\")\n",
        "plt.legend()\n",
        "plt.grid(True)\n",
        "plt.xlim(pd.Timestamp(\"2022-01-01\"), pd.Timestamp(\"2024-12-25\"))\n",
        "plt.show()"
      ],
      "metadata": {
        "colab": {
          "base_uri": "https://localhost:8080/",
          "height": 410
        },
        "id": "b4RCvhitONN8",
        "outputId": "a90f02e8-dd33-47a3-f4c6-c7874231824f"
      },
      "execution_count": 32,
      "outputs": [
        {
          "output_type": "display_data",
          "data": {
            "text/plain": [
              "<Figure size 1000x400 with 1 Axes>"
            ],
            "image/png": "[encoded data removed]"
          },
          "metadata": {}
        }
      ]
    },
    {
      "cell_type": "code",
      "source": [
        "rmse = np.sqrt(mean_squared_error(val_data, future_forecast_val))\n",
        "print(\"RMSE: \" + str(rmse))"
      ],
      "metadata": {
        "colab": {
          "base_uri": "https://localhost:8080/"
        },
        "id": "Pnd9gcjitf96",
        "outputId": "b1bdf6dc-f0c0-439b-ad2d-4830931a8922"
      },
      "execution_count": 33,
      "outputs": [
        {
          "output_type": "stream",
          "name": "stdout",
          "text": [
            "RMSE: 3720762.9545585937\n"
          ]
        }
      ]
    },
    {
      "cell_type": "code",
      "source": [
        "future_forecast_val"
      ],
      "metadata": {
        "colab": {
          "base_uri": "https://localhost:8080/",
          "height": 707
        },
        "id": "0J3LTwEqlOcq",
        "outputId": "aacae813-5340-48c2-8d0a-f4184e4da902"
      },
      "execution_count": 85,
      "outputs": [
        {
          "output_type": "execute_result",
          "data": {
            "text/plain": [
              "                       0       date  month  year\n",
              "2023-01-08  2.001669e+07 2023-01-08      1  2023\n",
              "2023-01-15  2.149417e+07 2023-01-15      1  2023\n",
              "2023-01-22  2.455581e+07 2023-01-22      1  2023\n",
              "2023-01-29  2.968535e+07 2023-01-29      1  2023\n",
              "2023-02-05  2.987939e+07 2023-02-05      2  2023\n",
              "2023-02-12  2.895175e+07 2023-02-12      2  2023\n",
              "2023-02-19  2.866816e+07 2023-02-19      2  2023\n",
              "2023-02-26  2.940659e+07 2023-02-26      2  2023\n",
              "2023-03-05  2.960131e+07 2023-03-05      3  2023\n",
              "2023-03-12  2.890966e+07 2023-03-12      3  2023\n",
              "2023-03-19  2.867312e+07 2023-03-19      3  2023\n",
              "2023-03-26  2.857311e+07 2023-03-26      3  2023\n",
              "2023-04-02  3.017575e+07 2023-04-02      4  2023\n",
              "2023-04-09  3.051766e+07 2023-04-09      4  2023\n",
              "2023-04-16  3.073635e+07 2023-04-16      4  2023\n",
              "2023-04-23  2.968800e+07 2023-04-23      4  2023\n",
              "2023-04-30  2.778040e+07 2023-04-30      4  2023\n",
              "2023-05-07  2.622796e+07 2023-05-07      5  2023\n",
              "2023-05-14  2.703000e+07 2023-05-14      5  2023\n",
              "2023-05-21  2.596013e+07 2023-05-21      5  2023\n",
              "2023-05-28  2.718452e+07 2023-05-28      5  2023"
            ],
            "text/html": [
              "\n",
              "  <div id=\"df-511a29f3-43a8-4cf8-a6d5-19a97b307540\" class=\"colab-df-container\">\n",
              "    <div>\n",
              "<style scoped>\n",
              "    .dataframe tbody tr th:only-of-type {\n",
              "        vertical-align: middle;\n",
              "    }\n",
              "\n",
              "    .dataframe tbody tr th {\n",
              "        vertical-align: top;\n",
              "    }\n",
              "\n",
              "    .dataframe thead th {\n",
              "        text-align: right;\n",
              "    }\n",
              "</style>\n",
              "<table border=\"1\" class=\"dataframe\">\n",
              "  <thead>\n",
              "    <tr style=\"text-align: right;\">\n",
              "      <th></th>\n",
              "      <th>0</th>\n",
              "      <th>date</th>\n",
              "      <th>month</th>\n",
              "      <th>year</th>\n",
              "    </tr>\n",
              "  </thead>\n",
              "  <tbody>\n",
              "    <tr>\n",
              "      <th>2023-01-08</th>\n",
              "      <td>2.001669e+07</td>\n",
              "      <td>2023-01-08</td>\n",
              "      <td>1</td>\n",
              "      <td>2023</td>\n",
              "    </tr>\n",
              "    <tr>\n",
              "      <th>2023-01-15</th>\n",
              "      <td>2.149417e+07</td>\n",
              "      <td>2023-01-15</td>\n",
              "      <td>1</td>\n",
              "      <td>2023</td>\n",
              "    </tr>\n",
              "    <tr>\n",
              "      <th>2023-01-22</th>\n",
              "      <td>2.455581e+07</td>\n",
              "      <td>2023-01-22</td>\n",
              "      <td>1</td>\n",
              "      <td>2023</td>\n",
              "    </tr>\n",
              "    <tr>\n",
              "      <th>2023-01-29</th>\n",
              "      <td>2.968535e+07</td>\n",
              "      <td>2023-01-29</td>\n",
              "      <td>1</td>\n",
              "      <td>2023</td>\n",
              "    </tr>\n",
              "    <tr>\n",
              "      <th>2023-02-05</th>\n",
              "      <td>2.987939e+07</td>\n",
              "      <td>2023-02-05</td>\n",
              "      <td>2</td>\n",
              "      <td>2023</td>\n",
              "    </tr>\n",
              "    <tr>\n",
              "      <th>2023-02-12</th>\n",
              "      <td>2.895175e+07</td>\n",
              "      <td>2023-02-12</td>\n",
              "      <td>2</td>\n",
              "      <td>2023</td>\n",
              "    </tr>\n",
              "    <tr>\n",
              "      <th>2023-02-19</th>\n",
              "      <td>2.866816e+07</td>\n",
              "      <td>2023-02-19</td>\n",
              "      <td>2</td>\n",
              "      <td>2023</td>\n",
              "    </tr>\n",
              "    <tr>\n",
              "      <th>2023-02-26</th>\n",
              "      <td>2.940659e+07</td>\n",
              "      <td>2023-02-26</td>\n",
              "      <td>2</td>\n",
              "      <td>2023</td>\n",
              "    </tr>\n",
              "    <tr>\n",
              "      <th>2023-03-05</th>\n",
              "      <td>2.960131e+07</td>\n",
              "      <td>2023-03-05</td>\n",
              "      <td>3</td>\n",
              "      <td>2023</td>\n",
              "    </tr>\n",
              "    <tr>\n",
              "      <th>2023-03-12</th>\n",
              "      <td>2.890966e+07</td>\n",
              "      <td>2023-03-12</td>\n",
              "      <td>3</td>\n",
              "      <td>2023</td>\n",
              "    </tr>\n",
              "    <tr>\n",
              "      <th>2023-03-19</th>\n",
              "      <td>2.867312e+07</td>\n",
              "      <td>2023-03-19</td>\n",
              "      <td>3</td>\n",
              "      <td>2023</td>\n",
              "    </tr>\n",
              "    <tr>\n",
              "      <th>2023-03-26</th>\n",
              "      <td>2.857311e+07</td>\n",
              "      <td>2023-03-26</td>\n",
              "      <td>3</td>\n",
              "      <td>2023</td>\n",
              "    </tr>\n",
              "    <tr>\n",
              "      <th>2023-04-02</th>\n",
              "      <td>3.017575e+07</td>\n",
              "      <td>2023-04-02</td>\n",
              "      <td>4</td>\n",
              "      <td>2023</td>\n",
              "    </tr>\n",
              "    <tr>\n",
              "      <th>2023-04-09</th>\n",
              "      <td>3.051766e+07</td>\n",
              "      <td>2023-04-09</td>\n",
              "      <td>4</td>\n",
              "      <td>2023</td>\n",
              "    </tr>\n",
              "    <tr>\n",
              "      <th>2023-04-16</th>\n",
              "      <td>3.073635e+07</td>\n",
              "      <td>2023-04-16</td>\n",
              "      <td>4</td>\n",
              "      <td>2023</td>\n",
              "    </tr>\n",
              "    <tr>\n",
              "      <th>2023-04-23</th>\n",
              "      <td>2.968800e+07</td>\n",
              "      <td>2023-04-23</td>\n",
              "      <td>4</td>\n",
              "      <td>2023</td>\n",
              "    </tr>\n",
              "    <tr>\n",
              "      <th>2023-04-30</th>\n",
              "      <td>2.778040e+07</td>\n",
              "      <td>2023-04-30</td>\n",
              "      <td>4</td>\n",
              "      <td>2023</td>\n",
              "    </tr>\n",
              "    <tr>\n",
              "      <th>2023-05-07</th>\n",
              "      <td>2.622796e+07</td>\n",
              "      <td>2023-05-07</td>\n",
              "      <td>5</td>\n",
              "      <td>2023</td>\n",
              "    </tr>\n",
              "    <tr>\n",
              "      <th>2023-05-14</th>\n",
              "      <td>2.703000e+07</td>\n",
              "      <td>2023-05-14</td>\n",
              "      <td>5</td>\n",
              "      <td>2023</td>\n",
              "    </tr>\n",
              "    <tr>\n",
              "      <th>2023-05-21</th>\n",
              "      <td>2.596013e+07</td>\n",
              "      <td>2023-05-21</td>\n",
              "      <td>5</td>\n",
              "      <td>2023</td>\n",
              "    </tr>\n",
              "    <tr>\n",
              "      <th>2023-05-28</th>\n",
              "      <td>2.718452e+07</td>\n",
              "      <td>2023-05-28</td>\n",
              "      <td>5</td>\n",
              "      <td>2023</td>\n",
              "    </tr>\n",
              "  </tbody>\n",
              "</table>\n",
              "</div>\n",
              "    <div class=\"colab-df-buttons\">\n",
              "\n",
              "  <div class=\"colab-df-container\">\n",
              "    <button class=\"colab-df-convert\" onclick=\"convertToInteractive('df-511a29f3-43a8-4cf8-a6d5-19a97b307540')\"\n",
              "            title=\"Convert this dataframe to an interactive table.\"\n",
              "            style=\"display:none;\">\n",
              "\n",
              "  <svg xmlns=\"http://www.w3.org/2000/svg\" height=\"24px\" viewBox=\"0 -960 960 960\">\n",
              "    <path d=\"M120-120v-720h720v720H120Zm60-500h600v-160H180v160Zm220 220h160v-160H400v160Zm0 220h160v-160H400v160ZM180-400h160v-160H180v160Zm440 0h160v-160H620v160ZM180-180h160v-160H180v160Zm440 0h160v-160H620v160Z\"/>\n",
              "  </svg>\n",
              "    </button>\n",
              "\n",
              "  <style>\n",
              "    .colab-df-container {\n",
              "      display:flex;\n",
              "      gap: 12px;\n",
              "    }\n",
              "\n",
              "    .colab-df-convert {\n",
              "      background-color: #E8F0FE;\n",
              "      border: none;\n",
              "      border-radius: 50%;\n",
              "      cursor: pointer;\n",
              "      display: none;\n",
              "      fill: #1967D2;\n",
              "      height: 32px;\n",
              "      padding: 0 0 0 0;\n",
              "      width: 32px;\n",
              "    }\n",
              "\n",
              "    .colab-df-convert:hover {\n",
              "      background-color: #E2EBFA;\n",
              "      box-shadow: 0px 1px 2px rgba(60, 64, 67, 0.3), 0px 1px 3px 1px rgba(60, 64, 67, 0.15);\n",
              "      fill: #174EA6;\n",
              "    }\n",
              "\n",
              "    .colab-df-buttons div {\n",
              "      margin-bottom: 4px;\n",
              "    }\n",
              "\n",
              "    [theme=dark] .colab-df-convert {\n",
              "      background-color: #3B4455;\n",
              "      fill: #D2E3FC;\n",
              "    }\n",
              "\n",
              "    [theme=dark] .colab-df-convert:hover {\n",
              "      background-color: #434B5C;\n",
              "      box-shadow: 0px 1px 3px 1px rgba(0, 0, 0, 0.15);\n",
              "      filter: drop-shadow(0px 1px 2px rgba(0, 0, 0, 0.3));\n",
              "      fill: #FFFFFF;\n",
              "    }\n",
              "  </style>\n",
              "\n",
              "    <script>\n",
              "      const buttonEl =\n",
              "        document.querySelector('#df-511a29f3-43a8-4cf8-a6d5-19a97b307540 button.colab-df-convert');\n",
              "      buttonEl.style.display =\n",
              "        google.colab.kernel.accessAllowed ? 'block' : 'none';\n",
              "\n",
              "      async function convertToInteractive(key) {\n",
              "        const element = document.querySelector('#df-511a29f3-43a8-4cf8-a6d5-19a97b307540');\n",
              "        const dataTable =\n",
              "          await google.colab.kernel.invokeFunction('convertToInteractive',\n",
              "                                                    [key], {});\n",
              "        if (!dataTable) return;\n",
              "\n",
              "        const docLinkHtml = 'Like what you see? Visit the ' +\n",
              "          '<a target=\"_blank\" href=https://colab.research.google.com/notebooks/data_table.ipynb>data table notebook</a>'\n",
              "          + ' to learn more about interactive tables.';\n",
              "        element.innerHTML = '';\n",
              "        dataTable['output_type'] = 'display_data';\n",
              "        await google.colab.output.renderOutput(dataTable, element);\n",
              "        const docLink = document.createElement('div');\n",
              "        docLink.innerHTML = docLinkHtml;\n",
              "        element.appendChild(docLink);\n",
              "      }\n",
              "    </script>\n",
              "  </div>\n",
              "\n",
              "\n",
              "<div id=\"df-a7a35a60-9eb8-463e-a13b-833f2cb76c56\">\n",
              "  <button class=\"colab-df-quickchart\" onclick=\"quickchart('df-a7a35a60-9eb8-463e-a13b-833f2cb76c56')\"\n",
              "            title=\"Suggest charts\"\n",
              "            style=\"display:none;\">\n",
              "\n",
              "<svg xmlns=\"http://www.w3.org/2000/svg\" height=\"24px\"viewBox=\"0 0 24 24\"\n",
              "     width=\"24px\">\n",
              "    <g>\n",
              "        <path d=\"M19 3H5c-1.1 0-2 .9-2 2v14c0 1.1.9 2 2 2h14c1.1 0 2-.9 2-2V5c0-1.1-.9-2-2-2zM9 17H7v-7h2v7zm4 0h-2V7h2v10zm4 0h-2v-4h2v4z\"/>\n",
              "    </g>\n",
              "</svg>\n",
              "  </button>\n",
              "\n",
              "<style>\n",
              "  .colab-df-quickchart {\n",
              "      --bg-color: #E8F0FE;\n",
              "      --fill-color: #1967D2;\n",
              "      --hover-bg-color: #E2EBFA;\n",
              "      --hover-fill-color: #174EA6;\n",
              "      --disabled-fill-color: #AAA;\n",
              "      --disabled-bg-color: #DDD;\n",
              "  }\n",
              "\n",
              "  [theme=dark] .colab-df-quickchart {\n",
              "      --bg-color: #3B4455;\n",
              "      --fill-color: #D2E3FC;\n",
              "      --hover-bg-color: #434B5C;\n",
              "      --hover-fill-color: #FFFFFF;\n",
              "      --disabled-bg-color: #3B4455;\n",
              "      --disabled-fill-color: #666;\n",
              "  }\n",
              "\n",
              "  .colab-df-quickchart {\n",
              "    background-color: var(--bg-color);\n",
              "    border: none;\n",
              "    border-radius: 50%;\n",
              "    cursor: pointer;\n",
              "    display: none;\n",
              "    fill: var(--fill-color);\n",
              "    height: 32px;\n",
              "    padding: 0;\n",
              "    width: 32px;\n",
              "  }\n",
              "\n",
              "  .colab-df-quickchart:hover {\n",
              "    background-color: var(--hover-bg-color);\n",
              "    box-shadow: 0 1px 2px rgba(60, 64, 67, 0.3), 0 1px 3px 1px rgba(60, 64, 67, 0.15);\n",
              "    fill: var(--button-hover-fill-color);\n",
              "  }\n",
              "\n",
              "  .colab-df-quickchart-complete:disabled,\n",
              "  .colab-df-quickchart-complete:disabled:hover {\n",
              "    background-color: var(--disabled-bg-color);\n",
              "    fill: var(--disabled-fill-color);\n",
              "    box-shadow: none;\n",
              "  }\n",
              "\n",
              "  .colab-df-spinner {\n",
              "    border: 2px solid var(--fill-color);\n",
              "    border-color: transparent;\n",
              "    border-bottom-color: var(--fill-color);\n",
              "    animation:\n",
              "      spin 1s steps(1) infinite;\n",
              "  }\n",
              "\n",
              "  @keyframes spin {\n",
              "    0% {\n",
              "      border-color: transparent;\n",
              "      border-bottom-color: var(--fill-color);\n",
              "      border-left-color: var(--fill-color);\n",
              "    }\n",
              "    20% {\n",
              "      border-color: transparent;\n",
              "      border-left-color: var(--fill-color);\n",
              "      border-top-color: var(--fill-color);\n",
              "    }\n",
              "    30% {\n",
              "      border-color: transparent;\n",
              "      border-left-color: var(--fill-color);\n",
              "      border-top-color: var(--fill-color);\n",
              "      border-right-color: var(--fill-color);\n",
              "    }\n",
              "    40% {\n",
              "      border-color: transparent;\n",
              "      border-right-color: var(--fill-color);\n",
              "      border-top-color: var(--fill-color);\n",
              "    }\n",
              "    60% {\n",
              "      border-color: transparent;\n",
              "      border-right-color: var(--fill-color);\n",
              "    }\n",
              "    80% {\n",
              "      border-color: transparent;\n",
              "      border-right-color: var(--fill-color);\n",
              "      border-bottom-color: var(--fill-color);\n",
              "    }\n",
              "    90% {\n",
              "      border-color: transparent;\n",
              "      border-bottom-color: var(--fill-color);\n",
              "    }\n",
              "  }\n",
              "</style>\n",
              "\n",
              "  <script>\n",
              "    async function quickchart(key) {\n",
              "      const quickchartButtonEl =\n",
              "        document.querySelector('#' + key + ' button');\n",
              "      quickchartButtonEl.disabled = true;  // To prevent multiple clicks.\n",
              "      quickchartButtonEl.classList.add('colab-df-spinner');\n",
              "      try {\n",
              "        const charts = await google.colab.kernel.invokeFunction(\n",
              "            'suggestCharts', [key], {});\n",
              "      } catch (error) {\n",
              "        console.error('Error during call to suggestCharts:', error);\n",
              "      }\n",
              "      quickchartButtonEl.classList.remove('colab-df-spinner');\n",
              "      quickchartButtonEl.classList.add('colab-df-quickchart-complete');\n",
              "    }\n",
              "    (() => {\n",
              "      let quickchartButtonEl =\n",
              "        document.querySelector('#df-a7a35a60-9eb8-463e-a13b-833f2cb76c56 button');\n",
              "      quickchartButtonEl.style.display =\n",
              "        google.colab.kernel.accessAllowed ? 'block' : 'none';\n",
              "    })();\n",
              "  </script>\n",
              "</div>\n",
              "    </div>\n",
              "  </div>\n"
            ],
            "application/vnd.google.colaboratory.intrinsic+json": {
              "type": "dataframe",
              "variable_name": "future_forecast_val",
              "summary": "{\n  \"name\": \"future_forecast_val\",\n  \"rows\": 21,\n  \"fields\": [\n    {\n      \"column\": 0,\n      \"properties\": {\n        \"dtype\": \"number\",\n        \"std\": 2839796.0323727895,\n        \"min\": 20016686.659087565,\n        \"max\": 30736349.89683854,\n        \"num_unique_values\": 21,\n        \"samples\": [\n          20016686.659087565,\n          26227961.626235764,\n          29687998.240397703\n        ],\n        \"semantic_type\": \"\",\n        \"description\": \"\"\n      }\n    },\n    {\n      \"column\": \"date\",\n      \"properties\": {\n        \"dtype\": \"date\",\n        \"min\": \"2023-01-08 00:00:00\",\n        \"max\": \"2023-05-28 00:00:00\",\n        \"num_unique_values\": 21,\n        \"samples\": [\n          \"2023-01-08 00:00:00\",\n          \"2023-05-07 00:00:00\",\n          \"2023-04-23 00:00:00\"\n        ],\n        \"semantic_type\": \"\",\n        \"description\": \"\"\n      }\n    },\n    {\n      \"column\": \"month\",\n      \"properties\": {\n        \"dtype\": \"int32\",\n        \"num_unique_values\": 5,\n        \"samples\": [\n          2,\n          5,\n          3\n        ],\n        \"semantic_type\": \"\",\n        \"description\": \"\"\n      }\n    },\n    {\n      \"column\": \"year\",\n      \"properties\": {\n        \"dtype\": \"int32\",\n        \"num_unique_values\": 1,\n        \"samples\": [\n          2023\n        ],\n        \"semantic_type\": \"\",\n        \"description\": \"\"\n      }\n    }\n  ]\n}"
            }
          },
          "metadata": {},
          "execution_count": 85
        }
      ]
    },
    {
      "cell_type": "code",
      "source": [
        "actual, pred1 = np.array(val_data), np.array(future_forecast_val[0])\n",
        "mape = np.mean(np.abs((actual - pred1) / actual)) * 100\n",
        "print(\"MAPE: \" + str(mape))"
      ],
      "metadata": {
        "colab": {
          "base_uri": "https://localhost:8080/"
        },
        "id": "V-7EhM3rk0hg",
        "outputId": "95dbf256-aedc-4909-d71a-0cd740f5b61a"
      },
      "execution_count": 99,
      "outputs": [
        {
          "output_type": "stream",
          "name": "stdout",
          "text": [
            "MAPE: 13.600713043886195\n"
          ]
        }
      ]
    },
    {
      "cell_type": "markdown",
      "source": [
        "Перевод в сумму по месяцам из суммы по неделям"
      ],
      "metadata": {
        "id": "kkZww_BMknUT"
      }
    },
    {
      "cell_type": "code",
      "source": [
        "future_forecast_test = pd.DataFrame(future_forecast_test)\n",
        "future_forecast_test['date'] = future_forecast_test.index\n",
        "future_forecast_test['month'] = pd.to_datetime(future_forecast_test['date']).dt.month        # Месяц\n",
        "future_forecast_test['year'] = pd.to_datetime(future_forecast_test['date']).dt.year\n",
        "pred = future_forecast_test.groupby(['year', 'month']).agg(\n",
        "    date=('date', 'max'),\n",
        "    tot=(0, 'sum'))\n",
        "\n",
        "future_forecast_val = pd.DataFrame(future_forecast_val)\n",
        "future_forecast_val['date'] = future_forecast_val.index\n",
        "future_forecast_val['month'] = pd.to_datetime(future_forecast_val['date']).dt.month        # Месяц\n",
        "future_forecast_val['year'] = pd.to_datetime(future_forecast_val['date']).dt.year\n",
        "val = future_forecast_val.groupby(['year', 'month']).agg(\n",
        "    date=('date', 'max'),\n",
        "    tot=(0, 'sum'))\n",
        "\n",
        "dataset['date'] = dataset.index\n",
        "dataset['month'] = pd.to_datetime(dataset['date']).dt.month        # Месяц\n",
        "dataset['year'] = pd.to_datetime(dataset['date']).dt.year\n",
        "real = dataset.groupby(['year', 'month']).agg(\n",
        "    date=('date', 'max'),\n",
        "    tot=('total_payments', 'sum'))\n",
        "\n",
        "real.index = real['date']\n",
        "val.index = val['date']\n",
        "pred.index = pred['date']"
      ],
      "metadata": {
        "id": "eNKoEpG_9u1x"
      },
      "execution_count": 94,
      "outputs": []
    },
    {
      "cell_type": "code",
      "source": [
        "plt.figure(figsize=(14, 7))\n",
        "plt.plot(pred['tot'], label='pred', marker='o', color='orange')\n",
        "plt.plot(real['tot'][:24], label='real', marker='o', color='green')\n",
        "plt.plot(val['tot'], label='val', marker='o')\n",
        "plt.legend()\n",
        "\n",
        "plt.title(f'Динамика суммы выплат по месяцам:', fontsize=18)\n",
        "plt.xlabel('Месяц', fontsize=18)\n",
        "plt.ylabel('Сумма выплат', fontsize=18)\n",
        "plt.xticks()\n",
        "plt.grid(True)\n",
        "plt.savefig(\"myPNG1.png\")"
      ],
      "metadata": {
        "colab": {
          "base_uri": "https://localhost:8080/",
          "height": 624
        },
        "id": "P5ljUVPKBJoS",
        "outputId": "4fb46090-e56d-4d89-968b-000ea119f375"
      },
      "execution_count": 66,
      "outputs": [
        {
          "output_type": "display_data",
          "data": {
            "text/plain": [
              "<Figure size 1400x700 with 1 Axes>"
            ],
            "image/png": "[encoded data removed]"
          },
          "metadata": {}
        }
      ]
    },
    {
      "cell_type": "code",
      "source": [
        "rmse = np.sqrt(mean_squared_error(real['tot'][12:17], val['tot']))\n",
        "print(\"RMSE: \" + str(rmse))"
      ],
      "metadata": {
        "colab": {
          "base_uri": "https://localhost:8080/"
        },
        "id": "xcI6nR8OBIU1",
        "outputId": "3116a7cc-460b-4195-c159-79af10bd6bc6"
      },
      "execution_count": 48,
      "outputs": [
        {
          "output_type": "stream",
          "name": "stdout",
          "text": [
            "RMSE: 10519641.954618068\n"
          ]
        }
      ]
    },
    {
      "cell_type": "code",
      "source": [
        "actual, pred1 = np.array(real['tot'][12:17]), np.array(val['tot'])\n",
        "mape = np.mean(np.abs((actual - pred1) / actual)) * 100\n",
        "print(\"MAPE: \" + str(mape))"
      ],
      "metadata": {
        "colab": {
          "base_uri": "https://localhost:8080/"
        },
        "id": "ruxewyUgnuBn",
        "outputId": "ac48a10f-10f6-49bf-d561-dabff50e5068"
      },
      "execution_count": 98,
      "outputs": [
        {
          "output_type": "stream",
          "name": "stdout",
          "text": [
            "MAPE: 9.631237996514812\n"
          ]
        }
      ]
    },
    {
      "cell_type": "code",
      "source": [
        "pred['tot'][7:].to_excel(\"output.xlsx\")"
      ],
      "metadata": {
        "id": "xWjjEAokoJ1p"
      },
      "execution_count": 97,
      "outputs": []
    },
    {
      "cell_type": "markdown",
      "source": [
        "# Обучение на датасете с признаками"
      ],
      "metadata": {
        "id": "5C7M_EOfvO-B"
      }
    },
    {
      "cell_type": "code",
      "source": [
        "train_data = dataset.query(\"(`date` >= @train_start) & (`date` <= @train_end)\")\n",
        "val_data = dataset.query(\"(`date` >= @val_start) & (`date` <= @val_end)\")\n",
        "test_data = dataset.query(\"(`date` >= @test_start) & (`date` <= @test_end)\")"
      ],
      "metadata": {
        "id": "HlGNtUL2tf7s"
      },
      "execution_count": 172,
      "outputs": []
    },
    {
      "cell_type": "code",
      "source": [
        "stepwise_model = auto_arima(\n",
        "    y=train_data['total_payments'],\n",
        "    X=train_data.drop(columns=[\"total_payments\"]).fillna(0),\n",
        "    start_p=1,\n",
        "    start_q=1,\n",
        "    max_p=5,\n",
        "    max_q=5,\n",
        "    m=18,\n",
        "    start_P=0,\n",
        "    seasonal=True,\n",
        "    d=None,\n",
        "    D=1,\n",
        "    trace=True,\n",
        "    error_action=\"ignore\",\n",
        "    suppress_warnings=True,\n",
        "    stepwise=True,\n",
        "    maxiter=50,  # default 50\n",
        ")"
      ],
      "metadata": {
        "colab": {
          "base_uri": "https://localhost:8080/"
        },
        "id": "kIBgeimutf5M",
        "outputId": "3940be4b-59c7-464f-ef4f-27395577e5ae"
      },
      "execution_count": 173,
      "outputs": [
        {
          "output_type": "stream",
          "name": "stderr",
          "text": [
            "/usr/local/lib/python3.11/dist-packages/sklearn/utils/deprecation.py:151: FutureWarning: 'force_all_finite' was renamed to 'ensure_all_finite' in 1.6 and will be removed in 1.8.\n",
            "  warnings.warn(\n",
            "/usr/local/lib/python3.11/dist-packages/sklearn/utils/deprecation.py:151: FutureWarning: 'force_all_finite' was renamed to 'ensure_all_finite' in 1.6 and will be removed in 1.8.\n",
            "  warnings.warn(\n",
            "/usr/local/lib/python3.11/dist-packages/sklearn/utils/deprecation.py:151: FutureWarning: 'force_all_finite' was renamed to 'ensure_all_finite' in 1.6 and will be removed in 1.8.\n",
            "  warnings.warn(\n",
            "/usr/local/lib/python3.11/dist-packages/sklearn/utils/deprecation.py:151: FutureWarning: 'force_all_finite' was renamed to 'ensure_all_finite' in 1.6 and will be removed in 1.8.\n",
            "  warnings.warn(\n",
            "/usr/local/lib/python3.11/dist-packages/sklearn/utils/deprecation.py:151: FutureWarning: 'force_all_finite' was renamed to 'ensure_all_finite' in 1.6 and will be removed in 1.8.\n",
            "  warnings.warn(\n",
            "/usr/local/lib/python3.11/dist-packages/sklearn/utils/deprecation.py:151: FutureWarning: 'force_all_finite' was renamed to 'ensure_all_finite' in 1.6 and will be removed in 1.8.\n",
            "  warnings.warn(\n"
          ]
        },
        {
          "output_type": "stream",
          "name": "stdout",
          "text": [
            "Performing stepwise search to minimize aic\n",
            " ARIMA(1,0,1)(0,1,1)[18] intercept   : AIC=inf, Time=1.56 sec\n"
          ]
        },
        {
          "output_type": "stream",
          "name": "stderr",
          "text": [
            "/usr/local/lib/python3.11/dist-packages/sklearn/utils/deprecation.py:151: FutureWarning: 'force_all_finite' was renamed to 'ensure_all_finite' in 1.6 and will be removed in 1.8.\n",
            "  warnings.warn(\n"
          ]
        },
        {
          "output_type": "stream",
          "name": "stdout",
          "text": [
            " ARIMA(0,0,0)(0,1,0)[18] intercept   : AIC=-35.182, Time=0.31 sec\n"
          ]
        },
        {
          "output_type": "stream",
          "name": "stderr",
          "text": [
            "/usr/local/lib/python3.11/dist-packages/sklearn/utils/deprecation.py:151: FutureWarning: 'force_all_finite' was renamed to 'ensure_all_finite' in 1.6 and will be removed in 1.8.\n",
            "  warnings.warn(\n"
          ]
        },
        {
          "output_type": "stream",
          "name": "stdout",
          "text": [
            " ARIMA(1,0,0)(1,1,0)[18] intercept   : AIC=-36.480, Time=1.25 sec\n"
          ]
        },
        {
          "output_type": "stream",
          "name": "stderr",
          "text": [
            "/usr/local/lib/python3.11/dist-packages/sklearn/utils/deprecation.py:151: FutureWarning: 'force_all_finite' was renamed to 'ensure_all_finite' in 1.6 and will be removed in 1.8.\n",
            "  warnings.warn(\n"
          ]
        },
        {
          "output_type": "stream",
          "name": "stdout",
          "text": [
            " ARIMA(0,0,1)(0,1,1)[18] intercept   : AIC=-40.877, Time=2.45 sec\n",
            " ARIMA(0,0,0)(0,1,0)[18]             : AIC=-37.067, Time=0.08 sec\n"
          ]
        },
        {
          "output_type": "stream",
          "name": "stderr",
          "text": [
            "/usr/local/lib/python3.11/dist-packages/sklearn/utils/deprecation.py:151: FutureWarning: 'force_all_finite' was renamed to 'ensure_all_finite' in 1.6 and will be removed in 1.8.\n",
            "  warnings.warn(\n",
            "/usr/local/lib/python3.11/dist-packages/sklearn/utils/deprecation.py:151: FutureWarning: 'force_all_finite' was renamed to 'ensure_all_finite' in 1.6 and will be removed in 1.8.\n",
            "  warnings.warn(\n"
          ]
        },
        {
          "output_type": "stream",
          "name": "stdout",
          "text": [
            " ARIMA(0,0,1)(0,1,0)[18] intercept   : AIC=-39.697, Time=0.43 sec\n"
          ]
        },
        {
          "output_type": "stream",
          "name": "stderr",
          "text": [
            "/usr/local/lib/python3.11/dist-packages/sklearn/utils/deprecation.py:151: FutureWarning: 'force_all_finite' was renamed to 'ensure_all_finite' in 1.6 and will be removed in 1.8.\n",
            "  warnings.warn(\n"
          ]
        },
        {
          "output_type": "stream",
          "name": "stdout",
          "text": [
            " ARIMA(0,0,1)(1,1,1)[18] intercept   : AIC=-39.009, Time=1.61 sec\n"
          ]
        },
        {
          "output_type": "stream",
          "name": "stderr",
          "text": [
            "/usr/local/lib/python3.11/dist-packages/sklearn/utils/deprecation.py:151: FutureWarning: 'force_all_finite' was renamed to 'ensure_all_finite' in 1.6 and will be removed in 1.8.\n",
            "  warnings.warn(\n"
          ]
        },
        {
          "output_type": "stream",
          "name": "stdout",
          "text": [
            " ARIMA(0,0,1)(0,1,2)[18] intercept   : AIC=-38.933, Time=2.87 sec\n"
          ]
        },
        {
          "output_type": "stream",
          "name": "stderr",
          "text": [
            "/usr/local/lib/python3.11/dist-packages/sklearn/utils/deprecation.py:151: FutureWarning: 'force_all_finite' was renamed to 'ensure_all_finite' in 1.6 and will be removed in 1.8.\n",
            "  warnings.warn(\n"
          ]
        },
        {
          "output_type": "stream",
          "name": "stdout",
          "text": [
            " ARIMA(0,0,1)(1,1,0)[18] intercept   : AIC=-41.062, Time=1.25 sec\n"
          ]
        },
        {
          "output_type": "stream",
          "name": "stderr",
          "text": [
            "/usr/local/lib/python3.11/dist-packages/sklearn/utils/deprecation.py:151: FutureWarning: 'force_all_finite' was renamed to 'ensure_all_finite' in 1.6 and will be removed in 1.8.\n",
            "  warnings.warn(\n"
          ]
        },
        {
          "output_type": "stream",
          "name": "stdout",
          "text": [
            " ARIMA(0,0,1)(2,1,0)[18] intercept   : AIC=-39.015, Time=2.92 sec\n"
          ]
        },
        {
          "output_type": "stream",
          "name": "stderr",
          "text": [
            "/usr/local/lib/python3.11/dist-packages/sklearn/utils/deprecation.py:151: FutureWarning: 'force_all_finite' was renamed to 'ensure_all_finite' in 1.6 and will be removed in 1.8.\n",
            "  warnings.warn(\n"
          ]
        },
        {
          "output_type": "stream",
          "name": "stdout",
          "text": [
            " ARIMA(0,0,1)(2,1,1)[18] intercept   : AIC=-37.326, Time=4.60 sec\n"
          ]
        },
        {
          "output_type": "stream",
          "name": "stderr",
          "text": [
            "/usr/local/lib/python3.11/dist-packages/sklearn/utils/deprecation.py:151: FutureWarning: 'force_all_finite' was renamed to 'ensure_all_finite' in 1.6 and will be removed in 1.8.\n",
            "  warnings.warn(\n"
          ]
        },
        {
          "output_type": "stream",
          "name": "stdout",
          "text": [
            " ARIMA(0,0,0)(1,1,0)[18] intercept   : AIC=-36.535, Time=0.98 sec\n"
          ]
        },
        {
          "output_type": "stream",
          "name": "stderr",
          "text": [
            "/usr/local/lib/python3.11/dist-packages/sklearn/utils/deprecation.py:151: FutureWarning: 'force_all_finite' was renamed to 'ensure_all_finite' in 1.6 and will be removed in 1.8.\n",
            "  warnings.warn(\n"
          ]
        },
        {
          "output_type": "stream",
          "name": "stdout",
          "text": [
            " ARIMA(1,0,1)(1,1,0)[18] intercept   : AIC=-39.040, Time=1.31 sec\n"
          ]
        },
        {
          "output_type": "stream",
          "name": "stderr",
          "text": [
            "/usr/local/lib/python3.11/dist-packages/sklearn/utils/deprecation.py:151: FutureWarning: 'force_all_finite' was renamed to 'ensure_all_finite' in 1.6 and will be removed in 1.8.\n",
            "  warnings.warn(\n"
          ]
        },
        {
          "output_type": "stream",
          "name": "stdout",
          "text": [
            " ARIMA(0,0,2)(1,1,0)[18] intercept   : AIC=-39.202, Time=1.13 sec\n"
          ]
        },
        {
          "output_type": "stream",
          "name": "stderr",
          "text": [
            "/usr/local/lib/python3.11/dist-packages/sklearn/utils/deprecation.py:151: FutureWarning: 'force_all_finite' was renamed to 'ensure_all_finite' in 1.6 and will be removed in 1.8.\n",
            "  warnings.warn(\n"
          ]
        },
        {
          "output_type": "stream",
          "name": "stdout",
          "text": [
            " ARIMA(1,0,2)(1,1,0)[18] intercept   : AIC=-41.241, Time=1.40 sec\n"
          ]
        },
        {
          "output_type": "stream",
          "name": "stderr",
          "text": [
            "/usr/local/lib/python3.11/dist-packages/sklearn/utils/deprecation.py:151: FutureWarning: 'force_all_finite' was renamed to 'ensure_all_finite' in 1.6 and will be removed in 1.8.\n",
            "  warnings.warn(\n"
          ]
        },
        {
          "output_type": "stream",
          "name": "stdout",
          "text": [
            " ARIMA(1,0,2)(0,1,0)[18] intercept   : AIC=-43.368, Time=0.61 sec\n"
          ]
        },
        {
          "output_type": "stream",
          "name": "stderr",
          "text": [
            "/usr/local/lib/python3.11/dist-packages/sklearn/utils/deprecation.py:151: FutureWarning: 'force_all_finite' was renamed to 'ensure_all_finite' in 1.6 and will be removed in 1.8.\n",
            "  warnings.warn(\n"
          ]
        },
        {
          "output_type": "stream",
          "name": "stdout",
          "text": [
            " ARIMA(1,0,2)(0,1,1)[18] intercept   : AIC=-42.421, Time=1.64 sec\n"
          ]
        },
        {
          "output_type": "stream",
          "name": "stderr",
          "text": [
            "/usr/local/lib/python3.11/dist-packages/sklearn/utils/deprecation.py:151: FutureWarning: 'force_all_finite' was renamed to 'ensure_all_finite' in 1.6 and will be removed in 1.8.\n",
            "  warnings.warn(\n"
          ]
        },
        {
          "output_type": "stream",
          "name": "stdout",
          "text": [
            " ARIMA(1,0,2)(1,1,1)[18] intercept   : AIC=-40.405, Time=3.27 sec\n"
          ]
        },
        {
          "output_type": "stream",
          "name": "stderr",
          "text": [
            "/usr/local/lib/python3.11/dist-packages/sklearn/utils/deprecation.py:151: FutureWarning: 'force_all_finite' was renamed to 'ensure_all_finite' in 1.6 and will be removed in 1.8.\n",
            "  warnings.warn(\n"
          ]
        },
        {
          "output_type": "stream",
          "name": "stdout",
          "text": [
            " ARIMA(0,0,2)(0,1,0)[18] intercept   : AIC=-37.688, Time=0.48 sec\n"
          ]
        },
        {
          "output_type": "stream",
          "name": "stderr",
          "text": [
            "/usr/local/lib/python3.11/dist-packages/sklearn/utils/deprecation.py:151: FutureWarning: 'force_all_finite' was renamed to 'ensure_all_finite' in 1.6 and will be removed in 1.8.\n",
            "  warnings.warn(\n"
          ]
        },
        {
          "output_type": "stream",
          "name": "stdout",
          "text": [
            " ARIMA(1,0,1)(0,1,0)[18] intercept   : AIC=-37.672, Time=0.45 sec\n"
          ]
        },
        {
          "output_type": "stream",
          "name": "stderr",
          "text": [
            "/usr/local/lib/python3.11/dist-packages/sklearn/utils/deprecation.py:151: FutureWarning: 'force_all_finite' was renamed to 'ensure_all_finite' in 1.6 and will be removed in 1.8.\n",
            "  warnings.warn(\n"
          ]
        },
        {
          "output_type": "stream",
          "name": "stdout",
          "text": [
            " ARIMA(2,0,2)(0,1,0)[18] intercept   : AIC=-39.034, Time=0.64 sec\n"
          ]
        },
        {
          "output_type": "stream",
          "name": "stderr",
          "text": [
            "/usr/local/lib/python3.11/dist-packages/sklearn/utils/deprecation.py:151: FutureWarning: 'force_all_finite' was renamed to 'ensure_all_finite' in 1.6 and will be removed in 1.8.\n",
            "  warnings.warn(\n"
          ]
        },
        {
          "output_type": "stream",
          "name": "stdout",
          "text": [
            " ARIMA(1,0,3)(0,1,0)[18] intercept   : AIC=-46.355, Time=0.68 sec\n"
          ]
        },
        {
          "output_type": "stream",
          "name": "stderr",
          "text": [
            "/usr/local/lib/python3.11/dist-packages/sklearn/utils/deprecation.py:151: FutureWarning: 'force_all_finite' was renamed to 'ensure_all_finite' in 1.6 and will be removed in 1.8.\n",
            "  warnings.warn(\n"
          ]
        },
        {
          "output_type": "stream",
          "name": "stdout",
          "text": [
            " ARIMA(1,0,3)(1,1,0)[18] intercept   : AIC=-46.853, Time=1.52 sec\n"
          ]
        },
        {
          "output_type": "stream",
          "name": "stderr",
          "text": [
            "/usr/local/lib/python3.11/dist-packages/sklearn/utils/deprecation.py:151: FutureWarning: 'force_all_finite' was renamed to 'ensure_all_finite' in 1.6 and will be removed in 1.8.\n",
            "  warnings.warn(\n"
          ]
        },
        {
          "output_type": "stream",
          "name": "stdout",
          "text": [
            " ARIMA(1,0,3)(2,1,0)[18] intercept   : AIC=-45.218, Time=4.00 sec\n"
          ]
        },
        {
          "output_type": "stream",
          "name": "stderr",
          "text": [
            "/usr/local/lib/python3.11/dist-packages/sklearn/utils/deprecation.py:151: FutureWarning: 'force_all_finite' was renamed to 'ensure_all_finite' in 1.6 and will be removed in 1.8.\n",
            "  warnings.warn(\n"
          ]
        },
        {
          "output_type": "stream",
          "name": "stdout",
          "text": [
            " ARIMA(1,0,3)(1,1,1)[18] intercept   : AIC=-44.971, Time=3.03 sec\n"
          ]
        },
        {
          "output_type": "stream",
          "name": "stderr",
          "text": [
            "/usr/local/lib/python3.11/dist-packages/sklearn/utils/deprecation.py:151: FutureWarning: 'force_all_finite' was renamed to 'ensure_all_finite' in 1.6 and will be removed in 1.8.\n",
            "  warnings.warn(\n"
          ]
        },
        {
          "output_type": "stream",
          "name": "stdout",
          "text": [
            " ARIMA(1,0,3)(0,1,1)[18] intercept   : AIC=-47.251, Time=1.94 sec\n"
          ]
        },
        {
          "output_type": "stream",
          "name": "stderr",
          "text": [
            "/usr/local/lib/python3.11/dist-packages/sklearn/utils/deprecation.py:151: FutureWarning: 'force_all_finite' was renamed to 'ensure_all_finite' in 1.6 and will be removed in 1.8.\n",
            "  warnings.warn(\n"
          ]
        },
        {
          "output_type": "stream",
          "name": "stdout",
          "text": [
            " ARIMA(1,0,3)(0,1,2)[18] intercept   : AIC=-45.236, Time=3.63 sec\n"
          ]
        },
        {
          "output_type": "stream",
          "name": "stderr",
          "text": [
            "/usr/local/lib/python3.11/dist-packages/sklearn/utils/deprecation.py:151: FutureWarning: 'force_all_finite' was renamed to 'ensure_all_finite' in 1.6 and will be removed in 1.8.\n",
            "  warnings.warn(\n"
          ]
        },
        {
          "output_type": "stream",
          "name": "stdout",
          "text": [
            " ARIMA(1,0,3)(1,1,2)[18] intercept   : AIC=-43.132, Time=4.02 sec\n"
          ]
        },
        {
          "output_type": "stream",
          "name": "stderr",
          "text": [
            "/usr/local/lib/python3.11/dist-packages/sklearn/utils/deprecation.py:151: FutureWarning: 'force_all_finite' was renamed to 'ensure_all_finite' in 1.6 and will be removed in 1.8.\n",
            "  warnings.warn(\n"
          ]
        },
        {
          "output_type": "stream",
          "name": "stdout",
          "text": [
            " ARIMA(0,0,3)(0,1,1)[18] intercept   : AIC=-48.439, Time=2.32 sec\n"
          ]
        },
        {
          "output_type": "stream",
          "name": "stderr",
          "text": [
            "/usr/local/lib/python3.11/dist-packages/sklearn/utils/deprecation.py:151: FutureWarning: 'force_all_finite' was renamed to 'ensure_all_finite' in 1.6 and will be removed in 1.8.\n",
            "  warnings.warn(\n"
          ]
        },
        {
          "output_type": "stream",
          "name": "stdout",
          "text": [
            " ARIMA(0,0,3)(0,1,0)[18] intercept   : AIC=-47.902, Time=0.82 sec\n"
          ]
        },
        {
          "output_type": "stream",
          "name": "stderr",
          "text": [
            "/usr/local/lib/python3.11/dist-packages/sklearn/utils/deprecation.py:151: FutureWarning: 'force_all_finite' was renamed to 'ensure_all_finite' in 1.6 and will be removed in 1.8.\n",
            "  warnings.warn(\n"
          ]
        },
        {
          "output_type": "stream",
          "name": "stdout",
          "text": [
            " ARIMA(0,0,3)(1,1,1)[18] intercept   : AIC=-46.831, Time=1.58 sec\n"
          ]
        },
        {
          "output_type": "stream",
          "name": "stderr",
          "text": [
            "/usr/local/lib/python3.11/dist-packages/sklearn/utils/deprecation.py:151: FutureWarning: 'force_all_finite' was renamed to 'ensure_all_finite' in 1.6 and will be removed in 1.8.\n",
            "  warnings.warn(\n"
          ]
        },
        {
          "output_type": "stream",
          "name": "stdout",
          "text": [
            " ARIMA(0,0,3)(0,1,2)[18] intercept   : AIC=-46.803, Time=3.08 sec\n"
          ]
        },
        {
          "output_type": "stream",
          "name": "stderr",
          "text": [
            "/usr/local/lib/python3.11/dist-packages/sklearn/utils/deprecation.py:151: FutureWarning: 'force_all_finite' was renamed to 'ensure_all_finite' in 1.6 and will be removed in 1.8.\n",
            "  warnings.warn(\n"
          ]
        },
        {
          "output_type": "stream",
          "name": "stdout",
          "text": [
            " ARIMA(0,0,3)(1,1,0)[18] intercept   : AIC=-49.251, Time=1.41 sec\n"
          ]
        },
        {
          "output_type": "stream",
          "name": "stderr",
          "text": [
            "/usr/local/lib/python3.11/dist-packages/sklearn/utils/deprecation.py:151: FutureWarning: 'force_all_finite' was renamed to 'ensure_all_finite' in 1.6 and will be removed in 1.8.\n",
            "  warnings.warn(\n"
          ]
        },
        {
          "output_type": "stream",
          "name": "stdout",
          "text": [
            " ARIMA(0,0,3)(2,1,0)[18] intercept   : AIC=-46.713, Time=3.30 sec\n"
          ]
        },
        {
          "output_type": "stream",
          "name": "stderr",
          "text": [
            "/usr/local/lib/python3.11/dist-packages/sklearn/utils/deprecation.py:151: FutureWarning: 'force_all_finite' was renamed to 'ensure_all_finite' in 1.6 and will be removed in 1.8.\n",
            "  warnings.warn(\n"
          ]
        },
        {
          "output_type": "stream",
          "name": "stdout",
          "text": [
            " ARIMA(0,0,3)(2,1,1)[18] intercept   : AIC=-44.844, Time=4.96 sec\n"
          ]
        },
        {
          "output_type": "stream",
          "name": "stderr",
          "text": [
            "/usr/local/lib/python3.11/dist-packages/sklearn/utils/deprecation.py:151: FutureWarning: 'force_all_finite' was renamed to 'ensure_all_finite' in 1.6 and will be removed in 1.8.\n",
            "  warnings.warn(\n"
          ]
        },
        {
          "output_type": "stream",
          "name": "stdout",
          "text": [
            " ARIMA(0,0,4)(1,1,0)[18] intercept   : AIC=-44.901, Time=1.35 sec\n"
          ]
        },
        {
          "output_type": "stream",
          "name": "stderr",
          "text": [
            "/usr/local/lib/python3.11/dist-packages/sklearn/utils/deprecation.py:151: FutureWarning: 'force_all_finite' was renamed to 'ensure_all_finite' in 1.6 and will be removed in 1.8.\n",
            "  warnings.warn(\n"
          ]
        },
        {
          "output_type": "stream",
          "name": "stdout",
          "text": [
            " ARIMA(1,0,4)(1,1,0)[18] intercept   : AIC=-43.837, Time=1.65 sec\n"
          ]
        },
        {
          "output_type": "stream",
          "name": "stderr",
          "text": [
            "/usr/local/lib/python3.11/dist-packages/sklearn/utils/deprecation.py:151: FutureWarning: 'force_all_finite' was renamed to 'ensure_all_finite' in 1.6 and will be removed in 1.8.\n",
            "  warnings.warn(\n"
          ]
        },
        {
          "output_type": "stream",
          "name": "stdout",
          "text": [
            " ARIMA(0,0,3)(1,1,0)[18]             : AIC=inf, Time=1.19 sec\n",
            "\n",
            "Best model:  ARIMA(0,0,3)(1,1,0)[18] intercept\n",
            "Total fit time: 71.791 seconds\n"
          ]
        }
      ]
    },
    {
      "cell_type": "code",
      "source": [
        "start_data = train_data.index[-1] + pd.DateOffset(days=1)# Your code here\n",
        "future_forecast_val = stepwise_model.predict(X = val_data.drop(columns=[\"total_payments\"]), start=start_data, n_periods=21)\n",
        "\n",
        "start_data = val_data.index[-1] + pd.DateOffset(days=1)# Your code here\n",
        "future_forecast_test = stepwise_model.predict(X = test_data.drop(columns=[\"total_payments\"]), start=start_data, n_periods=83)"
      ],
      "metadata": {
        "colab": {
          "base_uri": "https://localhost:8080/"
        },
        "id": "eHvNkaIOtf26",
        "outputId": "e209ef6f-7738-45eb-b970-2307c78d080f"
      },
      "execution_count": null,
      "outputs": [
        {
          "output_type": "stream",
          "name": "stderr",
          "text": [
            "/usr/local/lib/python3.11/dist-packages/statsmodels/tsa/base/tsa_model.py:837: ValueWarning: No supported index is available. Prediction results will be given with an integer index beginning at `start`.\n",
            "  return get_prediction_index(\n",
            "/usr/local/lib/python3.11/dist-packages/statsmodels/tsa/base/tsa_model.py:837: FutureWarning: No supported index is available. In the next version, calling this method in a model without a supported index will result in an exception.\n",
            "  return get_prediction_index(\n",
            "/usr/local/lib/python3.11/dist-packages/sklearn/utils/deprecation.py:151: FutureWarning: 'force_all_finite' was renamed to 'ensure_all_finite' in 1.6 and will be removed in 1.8.\n",
            "  warnings.warn(\n",
            "/usr/local/lib/python3.11/dist-packages/statsmodels/tsa/base/tsa_model.py:837: ValueWarning: No supported index is available. Prediction results will be given with an integer index beginning at `start`.\n",
            "  return get_prediction_index(\n",
            "/usr/local/lib/python3.11/dist-packages/statsmodels/tsa/base/tsa_model.py:837: FutureWarning: No supported index is available. In the next version, calling this method in a model without a supported index will result in an exception.\n",
            "  return get_prediction_index(\n",
            "/usr/local/lib/python3.11/dist-packages/sklearn/utils/deprecation.py:151: FutureWarning: 'force_all_finite' was renamed to 'ensure_all_finite' in 1.6 and will be removed in 1.8.\n",
            "  warnings.warn(\n"
          ]
        }
      ]
    },
    {
      "cell_type": "code",
      "source": [
        "future_forecast_val = future_forecast_val.rename(index=dict(zip(future_forecast_val.index.tolist(),val_data.index.tolist())))\n",
        "future_forecast_test = future_forecast_test.rename(index=dict(zip(future_forecast_test.index.tolist(),test_data.index.tolist())))"
      ],
      "metadata": {
        "id": "rtC7-QRItf0a"
      },
      "execution_count": null,
      "outputs": []
    },
    {
      "cell_type": "code",
      "source": [
        "plt.figure(figsize=(10, 4))\n",
        "plt.plot(train_data['total_payments'], label=\"Train\")\n",
        "plt.plot(val_data['total_payments'], label=\"Val\")\n",
        "plt.plot(test_data['total_payments'], label=\"Test\")\n",
        "plt.plot(future_forecast_val, label=\"Predicted Val\")\n",
        "plt.plot(future_forecast_test.sort_index(), label=\"Predicted Test\")\n",
        "\n",
        "\n",
        "plt.title(\"ARIMA with optimal parameters\")\n",
        "plt.xlabel(\"Time\")\n",
        "plt.ylabel(\"Price\")\n",
        "plt.legend()\n",
        "plt.grid(True)\n",
        "plt.xlim(pd.Timestamp(\"2022-01-01\"), pd.Timestamp(\"2024-03-25\"))\n",
        "plt.ylim(16, 20)\n",
        "plt.show()"
      ],
      "metadata": {
        "colab": {
          "base_uri": "https://localhost:8080/",
          "height": 410
        },
        "id": "yZkC47DNtfyQ",
        "outputId": "4a7cabe9-a769-4018-e831-9143608cc0ec"
      },
      "execution_count": null,
      "outputs": [
        {
          "output_type": "display_data",
          "data": {
            "text/plain": [
              "<Figure size 1000x400 with 1 Axes>"
            ],
            "image/png": "[encoded data removed]"
          },
          "metadata": {}
        }
      ]
    },
    {
      "cell_type": "code",
      "source": [
        "plt.figure(figsize=(10, 4))\n",
        "plt.plot(train_data['total_payments'], label=\"Train\")\n",
        "plt.plot(val_data['total_payments'], label=\"Val\")\n",
        "plt.plot(test_data['total_payments'], label=\"Test\")\n",
        "plt.plot(future_forecast_val, label=\"Predicted Val\")\n",
        "plt.plot(future_forecast_test.sort_index(), label=\"Predicted Test\")\n",
        "\n",
        "\n",
        "plt.title(\"ARIMA with optimal parameters\")\n",
        "plt.xlabel(\"Time\")\n",
        "plt.ylabel(\"Price\")\n",
        "plt.legend()\n",
        "plt.grid(True)\n",
        "plt.xlim(pd.Timestamp(\"2022-01-01\"), pd.Timestamp(\"2024-12-25\"))\n",
        "plt.ylim(16, 100)\n",
        "plt.show()"
      ],
      "metadata": {
        "colab": {
          "base_uri": "https://localhost:8080/",
          "height": 410
        },
        "id": "2jMFH5xNw4eq",
        "outputId": "f9184c07-0114-4f5e-cc0e-c2bd062c5594"
      },
      "execution_count": null,
      "outputs": [
        {
          "output_type": "display_data",
          "data": {
            "text/plain": [
              "<Figure size 1000x400 with 1 Axes>"
            ],
            "image/png": "[encoded data removed]"
          },
          "metadata": {}
        }
      ]
    },
    {
      "cell_type": "markdown",
      "source": [
        "Мы наблюдаем в январе тренд вверх, а после того как заканчивается адекватная информация о скользящих средних получается резкий толнчёк вверх"
      ],
      "metadata": {
        "id": "ZbKLIbEIvxdA"
      }
    },
    {
      "cell_type": "code",
      "source": [],
      "metadata": {
        "id": "lCKEh_fRQ2iD"
      },
      "execution_count": null,
      "outputs": []
    }
  ]
}